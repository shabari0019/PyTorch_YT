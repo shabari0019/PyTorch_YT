{
  "nbformat": 4,
  "nbformat_minor": 0,
  "metadata": {
    "colab": {
      "provenance": [],
      "gpuType": "T4",
      "authorship_tag": "ABX9TyMcdFCZGmUxpogd+WDhLl6k",
      "include_colab_link": true
    },
    "kernelspec": {
      "name": "python3",
      "display_name": "Python 3"
    },
    "language_info": {
      "name": "python"
    },
    "accelerator": "GPU"
  },
  "cells": [
    {
      "cell_type": "markdown",
      "metadata": {
        "id": "view-in-github",
        "colab_type": "text"
      },
      "source": [
        "<a href=\"https://colab.research.google.com/github/shabari0019/PyTorch_YT/blob/main/PT_0_0_fundamentals.ipynb\" target=\"_parent\"><img src=\"https://colab.research.google.com/assets/colab-badge.svg\" alt=\"Open In Colab\"/></a>"
      ]
    },
    {
      "cell_type": "code",
      "execution_count": 1,
      "metadata": {
        "colab": {
          "base_uri": "https://localhost:8080/"
        },
        "id": "DLYeJiV1-Msq",
        "outputId": "3ba05cec-9e45-492c-e448-e814b60f2f4d"
      },
      "outputs": [
        {
          "output_type": "stream",
          "name": "stdout",
          "text": [
            "Thu Mar 13 16:47:02 2025       \n",
            "+-----------------------------------------------------------------------------------------+\n",
            "| NVIDIA-SMI 550.54.15              Driver Version: 550.54.15      CUDA Version: 12.4     |\n",
            "|-----------------------------------------+------------------------+----------------------+\n",
            "| GPU  Name                 Persistence-M | Bus-Id          Disp.A | Volatile Uncorr. ECC |\n",
            "| Fan  Temp   Perf          Pwr:Usage/Cap |           Memory-Usage | GPU-Util  Compute M. |\n",
            "|                                         |                        |               MIG M. |\n",
            "|=========================================+========================+======================|\n",
            "|   0  Tesla T4                       Off |   00000000:00:04.0 Off |                    0 |\n",
            "| N/A   60C    P8             10W /   70W |       0MiB /  15360MiB |      0%      Default |\n",
            "|                                         |                        |                  N/A |\n",
            "+-----------------------------------------+------------------------+----------------------+\n",
            "                                                                                         \n",
            "+-----------------------------------------------------------------------------------------+\n",
            "| Processes:                                                                              |\n",
            "|  GPU   GI   CI        PID   Type   Process name                              GPU Memory |\n",
            "|        ID   ID                                                               Usage      |\n",
            "|=========================================================================================|\n",
            "|  No running processes found                                                             |\n",
            "+-----------------------------------------------------------------------------------------+\n"
          ]
        }
      ],
      "source": [
        "!nvidia-smi"
      ]
    },
    {
      "cell_type": "code",
      "source": [
        "import torch\n",
        "import pandas as pd\n",
        "import numpy as np\n",
        "import matplotlib.pyplot as plt\n"
      ],
      "metadata": {
        "id": "lnYsZxW6AO7J"
      },
      "execution_count": 2,
      "outputs": []
    },
    {
      "cell_type": "code",
      "source": [
        "print(torch.__version__)\n"
      ],
      "metadata": {
        "colab": {
          "base_uri": "https://localhost:8080/"
        },
        "id": "TyEiYqyQA55K",
        "outputId": "f4601e50-810d-4b99-d24e-d49ab5bddcea"
      },
      "execution_count": 3,
      "outputs": [
        {
          "output_type": "stream",
          "name": "stdout",
          "text": [
            "2.5.1+cu124\n"
          ]
        }
      ]
    },
    {
      "cell_type": "code",
      "source": [
        "#scalar\n",
        "scalar = torch.tensor(7)\n",
        "scalar"
      ],
      "metadata": {
        "colab": {
          "base_uri": "https://localhost:8080/"
        },
        "id": "pifYweZnB9aT",
        "outputId": "67c85e2e-46c1-4792-b95e-649f88c41712"
      },
      "execution_count": 4,
      "outputs": [
        {
          "output_type": "execute_result",
          "data": {
            "text/plain": [
              "tensor(7)"
            ]
          },
          "metadata": {},
          "execution_count": 4
        }
      ]
    },
    {
      "cell_type": "markdown",
      "source": [],
      "metadata": {
        "id": "O9hOF996ADDS"
      }
    },
    {
      "cell_type": "code",
      "source": [
        "scalar.ndim"
      ],
      "metadata": {
        "colab": {
          "base_uri": "https://localhost:8080/"
        },
        "id": "Rxq2iYUi_0Fo",
        "outputId": "3d0ee04a-37f6-4c7e-fa27-b405f55c1e98"
      },
      "execution_count": 5,
      "outputs": [
        {
          "output_type": "execute_result",
          "data": {
            "text/plain": [
              "0"
            ]
          },
          "metadata": {},
          "execution_count": 5
        }
      ]
    },
    {
      "cell_type": "code",
      "source": [
        "scalar.item()"
      ],
      "metadata": {
        "colab": {
          "base_uri": "https://localhost:8080/"
        },
        "id": "MKlIIUakAL-r",
        "outputId": "f89e6a0d-d72a-4d19-e6c0-97804febad52"
      },
      "execution_count": 6,
      "outputs": [
        {
          "output_type": "execute_result",
          "data": {
            "text/plain": [
              "7"
            ]
          },
          "metadata": {},
          "execution_count": 6
        }
      ]
    },
    {
      "cell_type": "code",
      "source": [
        "vector = torch.tensor([7,7,7,7])\n",
        "vector"
      ],
      "metadata": {
        "colab": {
          "base_uri": "https://localhost:8080/"
        },
        "id": "_As1A4ywATiZ",
        "outputId": "290c2cff-2709-443b-a41a-f350bb045e86"
      },
      "execution_count": 7,
      "outputs": [
        {
          "output_type": "execute_result",
          "data": {
            "text/plain": [
              "tensor([7, 7, 7, 7])"
            ]
          },
          "metadata": {},
          "execution_count": 7
        }
      ]
    },
    {
      "cell_type": "code",
      "source": [
        "vector.ndim"
      ],
      "metadata": {
        "colab": {
          "base_uri": "https://localhost:8080/"
        },
        "id": "EmDT9bOJAsVd",
        "outputId": "f2f3694e-21ff-4b73-b564-b4845f468f8c"
      },
      "execution_count": 8,
      "outputs": [
        {
          "output_type": "execute_result",
          "data": {
            "text/plain": [
              "1"
            ]
          },
          "metadata": {},
          "execution_count": 8
        }
      ]
    },
    {
      "cell_type": "code",
      "source": [
        "vector.shape"
      ],
      "metadata": {
        "colab": {
          "base_uri": "https://localhost:8080/"
        },
        "id": "fRjeTlcwAv8k",
        "outputId": "302ce5b2-a6ea-400c-daa7-3c63e0845949"
      },
      "execution_count": 9,
      "outputs": [
        {
          "output_type": "execute_result",
          "data": {
            "text/plain": [
              "torch.Size([4])"
            ]
          },
          "metadata": {},
          "execution_count": 9
        }
      ]
    },
    {
      "cell_type": "code",
      "source": [],
      "metadata": {
        "id": "902RBBvVBsq2"
      },
      "execution_count": 9,
      "outputs": []
    },
    {
      "cell_type": "code",
      "source": [
        "matrix = torch.tensor([[[[7,8],[5,8],[1,2]]]])\n",
        "# matrix\n",
        "\n",
        "# matrix[0][1]\n",
        "\n",
        "matrix[0][0][2][1]"
      ],
      "metadata": {
        "colab": {
          "base_uri": "https://localhost:8080/"
        },
        "id": "3dAatX0-A7wG",
        "outputId": "9b27f04a-192e-4ad0-b518-823ed6f26619"
      },
      "execution_count": 10,
      "outputs": [
        {
          "output_type": "execute_result",
          "data": {
            "text/plain": [
              "tensor(2)"
            ]
          },
          "metadata": {},
          "execution_count": 10
        }
      ]
    },
    {
      "cell_type": "code",
      "source": [
        "#Random tensor\n",
        "random_tensor = torch.rand(1,2,20)\n",
        "len(random_tensor[0])"
      ],
      "metadata": {
        "colab": {
          "base_uri": "https://localhost:8080/"
        },
        "id": "e3LCm5aHD7cb",
        "outputId": "a18674e6-bae1-435f-94e5-12ca0f352180"
      },
      "execution_count": 11,
      "outputs": [
        {
          "output_type": "execute_result",
          "data": {
            "text/plain": [
              "2"
            ]
          },
          "metadata": {},
          "execution_count": 11
        }
      ]
    },
    {
      "cell_type": "code",
      "source": [
        "#Random tesnsor with similar shape to image tensor\n",
        "random_image_tensor = torch.rand(size=(8,8,3))\n",
        "random_image_tensor.shape, random_image_tensor.ndim\n",
        "#random_image_tensor\n",
        "\n"
      ],
      "metadata": {
        "colab": {
          "base_uri": "https://localhost:8080/"
        },
        "id": "ILZUGTdwFT1A",
        "outputId": "823562f5-3c9f-48f3-89f4-8adf21a02287"
      },
      "execution_count": 12,
      "outputs": [
        {
          "output_type": "execute_result",
          "data": {
            "text/plain": [
              "(torch.Size([8, 8, 3]), 3)"
            ]
          },
          "metadata": {},
          "execution_count": 12
        }
      ]
    },
    {
      "cell_type": "code",
      "source": [
        "#create tensor with all zeros\n",
        "\n",
        "zeros = torch.zeros(size=(3,4))\n",
        "zeros.dtype\n",
        "\n",
        "\n",
        "ones = torch.ones(size=(3,4))\n",
        "ones"
      ],
      "metadata": {
        "colab": {
          "base_uri": "https://localhost:8080/"
        },
        "id": "QlIpK0YgG0Cg",
        "outputId": "05cfbf15-13c9-4fe9-dc5b-859ff87caf39"
      },
      "execution_count": 13,
      "outputs": [
        {
          "output_type": "execute_result",
          "data": {
            "text/plain": [
              "tensor([[1., 1., 1., 1.],\n",
              "        [1., 1., 1., 1.],\n",
              "        [1., 1., 1., 1.]])"
            ]
          },
          "metadata": {},
          "execution_count": 13
        }
      ]
    },
    {
      "cell_type": "code",
      "source": [
        "#creating a range of tensor and tensor-like\n",
        "range = torch.arange(3,10)\n",
        "range_zeros = torch.zeros_like(range )\n",
        "range_zeros"
      ],
      "metadata": {
        "colab": {
          "base_uri": "https://localhost:8080/"
        },
        "id": "ow4EkbLlHVr2",
        "outputId": "624acf57-3d70-4d64-da72-aaae046fabae"
      },
      "execution_count": 14,
      "outputs": [
        {
          "output_type": "execute_result",
          "data": {
            "text/plain": [
              "tensor([0, 0, 0, 0, 0, 0, 0])"
            ]
          },
          "metadata": {},
          "execution_count": 14
        }
      ]
    },
    {
      "cell_type": "markdown",
      "source": [
        "**# Datatype ='tensor.dtype',shape='tensor.shape',on right device = tensor.device comman errors we may encounter**\n",
        "\n",
        "\n",
        "devices means where it runs like CUDA or CPU\n",
        "\n",
        "whether to track gradients\n",
        "\n",
        "\n",
        "\n",
        "\n"
      ],
      "metadata": {
        "id": "sYAdzcdTVFhl"
      }
    },
    {
      "cell_type": "code",
      "source": [
        "f32 = torch.tensor([3.0,5.0,9.0],dtype = None,\n",
        "                                device=None,\n",
        "                  requires_grad=False)\n",
        "#default data type in tensor is float\n",
        "f32.dtype\n"
      ],
      "metadata": {
        "colab": {
          "base_uri": "https://localhost:8080/"
        },
        "id": "5kCxX7rDH42I",
        "outputId": "74728ea2-13af-415b-8086-860efd8e64e5"
      },
      "execution_count": 15,
      "outputs": [
        {
          "output_type": "execute_result",
          "data": {
            "text/plain": [
              "torch.float32"
            ]
          },
          "metadata": {},
          "execution_count": 15
        }
      ]
    },
    {
      "cell_type": "code",
      "source": [
        "#whenever we get datatype error\n",
        "\n",
        "f16 = f32.type(torch.float16)\n",
        "\n",
        "f16.dtype"
      ],
      "metadata": {
        "colab": {
          "base_uri": "https://localhost:8080/"
        },
        "id": "S_9jMpQzVaO4",
        "outputId": "c6923a9d-0402-473a-b9f2-7d715dc7b789"
      },
      "execution_count": 16,
      "outputs": [
        {
          "output_type": "execute_result",
          "data": {
            "text/plain": [
              "torch.float16"
            ]
          },
          "metadata": {},
          "execution_count": 16
        }
      ]
    },
    {
      "cell_type": "code",
      "source": [
        "f32*f16"
      ],
      "metadata": {
        "colab": {
          "base_uri": "https://localhost:8080/"
        },
        "id": "ta-ixXYbWNF2",
        "outputId": "c48f432e-df11-4166-c546-abec48f539be"
      },
      "execution_count": 17,
      "outputs": [
        {
          "output_type": "execute_result",
          "data": {
            "text/plain": [
              "tensor([ 9., 25., 81.])"
            ]
          },
          "metadata": {},
          "execution_count": 17
        }
      ]
    },
    {
      "cell_type": "code",
      "source": [
        "int_32_tensor = torch.tensor([3,4,5],dtype = torch.int32)\n",
        "\n",
        "f16*int_32_tensor"
      ],
      "metadata": {
        "colab": {
          "base_uri": "https://localhost:8080/"
        },
        "id": "cBpbF4VVsHXY",
        "outputId": "0d427931-73a2-4c3d-9a8d-c93db41ab112"
      },
      "execution_count": 18,
      "outputs": [
        {
          "output_type": "execute_result",
          "data": {
            "text/plain": [
              "tensor([ 9., 20., 45.], dtype=torch.float16)"
            ]
          },
          "metadata": {},
          "execution_count": 18
        }
      ]
    },
    {
      "cell_type": "code",
      "source": [
        "some_tensor = torch.rand(3,4)\n",
        "changed = some_tensor.type(torch.int32)\n",
        "print(some_tensor)\n",
        "\n",
        "print(changed.dtype)\n",
        "print(f\"Shape of tensor: {some_tensor.shape}\")\n",
        "print(f\"Datatype of tensor: {some_tensor.dtype}\")\n",
        "print(f\"Device tensor is stored on: {some_tensor.device}\")"
      ],
      "metadata": {
        "colab": {
          "base_uri": "https://localhost:8080/"
        },
        "id": "pi2o965nsx2z",
        "outputId": "ce355442-8034-40ff-bdb6-30c83d66a6f4"
      },
      "execution_count": 19,
      "outputs": [
        {
          "output_type": "stream",
          "name": "stdout",
          "text": [
            "tensor([[0.1032, 0.6529, 0.1773, 0.2713],\n",
            "        [0.8578, 0.9969, 0.0773, 0.9233],\n",
            "        [0.5230, 0.1617, 0.1353, 0.6500]])\n",
            "torch.int32\n",
            "Shape of tensor: torch.Size([3, 4])\n",
            "Datatype of tensor: torch.float32\n",
            "Device tensor is stored on: cpu\n"
          ]
        }
      ]
    },
    {
      "cell_type": "code",
      "source": [],
      "metadata": {
        "id": "lkQ7zeVnvSjI"
      },
      "execution_count": 19,
      "outputs": []
    },
    {
      "cell_type": "markdown",
      "source": [
        "###manipulating tensors\n",
        "Tensor operation\n",
        "Addition\n",
        "Substraction\n",
        "Multiplication (elementwise)\n",
        "Division\n",
        "Matrix multiplation\n"
      ],
      "metadata": {
        "id": "o_GEN4xxu8uQ"
      }
    },
    {
      "cell_type": "code",
      "source": [
        "tensor = torch.tensor([1,23,3])\n",
        "tensor +10\n"
      ],
      "metadata": {
        "colab": {
          "base_uri": "https://localhost:8080/"
        },
        "id": "P62oPs6avPbD",
        "outputId": "b24fab87-0bf8-4d8b-8708-a908d591ab80"
      },
      "execution_count": 20,
      "outputs": [
        {
          "output_type": "execute_result",
          "data": {
            "text/plain": [
              "tensor([11, 33, 13])"
            ]
          },
          "metadata": {},
          "execution_count": 20
        }
      ]
    },
    {
      "cell_type": "code",
      "source": [
        "tensor*10\n",
        "tensor-10\n"
      ],
      "metadata": {
        "colab": {
          "base_uri": "https://localhost:8080/"
        },
        "id": "YDvOVJlawbXz",
        "outputId": "7424fb2a-9a22-4d6a-9e10-027704341c2a"
      },
      "execution_count": 21,
      "outputs": [
        {
          "output_type": "execute_result",
          "data": {
            "text/plain": [
              "tensor([-9, 13, -7])"
            ]
          },
          "metadata": {},
          "execution_count": 21
        }
      ]
    },
    {
      "cell_type": "code",
      "source": [
        "mul = torch.mul(tensor,10)\n",
        "mul"
      ],
      "metadata": {
        "colab": {
          "base_uri": "https://localhost:8080/"
        },
        "id": "7iRz4yTFzcOo",
        "outputId": "9095477a-77e4-44e6-91d9-30836cb65e81"
      },
      "execution_count": 22,
      "outputs": [
        {
          "output_type": "execute_result",
          "data": {
            "text/plain": [
              "tensor([ 10, 230,  30])"
            ]
          },
          "metadata": {},
          "execution_count": 22
        }
      ]
    },
    {
      "cell_type": "code",
      "source": [
        "#matrix multiplication(dot product)\n",
        "\n",
        "result = torch.matmul(torch.rand(3,1),torch.rand(1,4))\n",
        "result.shape\n"
      ],
      "metadata": {
        "colab": {
          "base_uri": "https://localhost:8080/"
        },
        "id": "82uL1CGJ4j0e",
        "outputId": "4127087b-2961-4426-d7eb-30a380417252"
      },
      "execution_count": 23,
      "outputs": [
        {
          "output_type": "execute_result",
          "data": {
            "text/plain": [
              "torch.Size([3, 4])"
            ]
          },
          "metadata": {},
          "execution_count": 23
        }
      ]
    },
    {
      "cell_type": "code",
      "source": [
        "tensor_a = torch.tensor([\n",
        "    [1,2],\n",
        "    [4,5],\n",
        "    [5,9]]\n",
        ")\n",
        "\n",
        "\n",
        "tensor_b = torch.tensor([\n",
        "    [6,9],\n",
        "    [2,8],\n",
        "    [7,1]]\n",
        ")\n",
        "\n",
        "\n",
        "tensor_a.shape"
      ],
      "metadata": {
        "colab": {
          "base_uri": "https://localhost:8080/"
        },
        "id": "BHJCGjkR5z0W",
        "outputId": "7dbe50a8-0f76-43e3-a6e0-70f9fe79d233"
      },
      "execution_count": 24,
      "outputs": [
        {
          "output_type": "execute_result",
          "data": {
            "text/plain": [
              "torch.Size([3, 2])"
            ]
          },
          "metadata": {},
          "execution_count": 24
        }
      ]
    },
    {
      "cell_type": "code",
      "source": [
        "#to fix tensor shape issues we can manipulate\n",
        "\n",
        "tensor_b.T\n",
        "tensor_b.T.shape"
      ],
      "metadata": {
        "colab": {
          "base_uri": "https://localhost:8080/"
        },
        "id": "ftHKp2YdABvX",
        "outputId": "97083ddf-ce26-4db9-ad62-de49c409e1a5"
      },
      "execution_count": 25,
      "outputs": [
        {
          "output_type": "execute_result",
          "data": {
            "text/plain": [
              "torch.Size([2, 3])"
            ]
          },
          "metadata": {},
          "execution_count": 25
        }
      ]
    },
    {
      "cell_type": "code",
      "source": [
        "\n",
        "mul_result = torch.matmul(tensor_a,tensor_b.T)\n",
        "mul_result.shape\n"
      ],
      "metadata": {
        "colab": {
          "base_uri": "https://localhost:8080/"
        },
        "id": "B2pl7nYaAP4a",
        "outputId": "d4b960ee-b945-4606-8d8a-4d9a76667f23"
      },
      "execution_count": 26,
      "outputs": [
        {
          "output_type": "execute_result",
          "data": {
            "text/plain": [
              "torch.Size([3, 3])"
            ]
          },
          "metadata": {},
          "execution_count": 26
        }
      ]
    },
    {
      "cell_type": "code",
      "source": [
        "#finding min,max,sum,mean\n",
        "\n",
        "x = torch.arange(0,100,10)\n",
        "\n",
        "print(torch.min(x))\n",
        "\n",
        "print(torch.max(x))\n",
        "\n",
        "print(torch.sum(x))\n",
        "\n",
        "print(torch.mean(x.type(torch.float32)))\n",
        "\n"
      ],
      "metadata": {
        "colab": {
          "base_uri": "https://localhost:8080/"
        },
        "id": "MaTXh0dwCXkX",
        "outputId": "7cfe5d87-932a-47b2-e933-5ad3435e77fd"
      },
      "execution_count": 27,
      "outputs": [
        {
          "output_type": "stream",
          "name": "stdout",
          "text": [
            "tensor(0)\n",
            "tensor(90)\n",
            "tensor(450)\n",
            "tensor(45.)\n"
          ]
        }
      ]
    },
    {
      "cell_type": "code",
      "source": [
        "x.dtype"
      ],
      "metadata": {
        "colab": {
          "base_uri": "https://localhost:8080/"
        },
        "id": "xcIFhEf5C7dV",
        "outputId": "0972423c-e4d2-4604-e069-ca3b42dcc63a"
      },
      "execution_count": 28,
      "outputs": [
        {
          "output_type": "execute_result",
          "data": {
            "text/plain": [
              "torch.int64"
            ]
          },
          "metadata": {},
          "execution_count": 28
        }
      ]
    },
    {
      "cell_type": "markdown",
      "source": [
        "#Reshaping stacking squeezing and unsqueezing\n",
        "\n",
        "*reshapes an input to a defined shape\n",
        "\n",
        "*squeeze removes all 1 dimension from a tensor\n",
        "\n",
        "*stacking combining multiple tensors on top of each other or side by side"
      ],
      "metadata": {
        "id": "qstAFRz7C9Q3"
      }
    },
    {
      "cell_type": "code",
      "source": [
        "import torch\n",
        "x = torch.arange(1,10)\n",
        "x"
      ],
      "metadata": {
        "colab": {
          "base_uri": "https://localhost:8080/"
        },
        "id": "rt5ZMxmLFUEM",
        "outputId": "086d345f-bd96-4a1d-8b26-b7cae3dfde95"
      },
      "execution_count": 29,
      "outputs": [
        {
          "output_type": "execute_result",
          "data": {
            "text/plain": [
              "tensor([1, 2, 3, 4, 5, 6, 7, 8, 9])"
            ]
          },
          "metadata": {},
          "execution_count": 29
        }
      ]
    },
    {
      "cell_type": "code",
      "source": [
        "#add extra dimension\n",
        "x_reshaped = x.reshape(1,9)\n",
        "x_reshaped"
      ],
      "metadata": {
        "colab": {
          "base_uri": "https://localhost:8080/"
        },
        "id": "3R04qNJOGNmW",
        "outputId": "8d849ac1-9a9a-404d-8097-a4a5226f8dc0"
      },
      "execution_count": 30,
      "outputs": [
        {
          "output_type": "execute_result",
          "data": {
            "text/plain": [
              "tensor([[1, 2, 3, 4, 5, 6, 7, 8, 9]])"
            ]
          },
          "metadata": {},
          "execution_count": 30
        }
      ]
    },
    {
      "cell_type": "code",
      "source": [
        "#change the view\n",
        "\n",
        "z = x.view(1,9)\n",
        "z.shape"
      ],
      "metadata": {
        "id": "hQMZOJK7G0B9",
        "colab": {
          "base_uri": "https://localhost:8080/"
        },
        "outputId": "0088175a-fd89-4d65-b191-601b104cec1f"
      },
      "execution_count": 31,
      "outputs": [
        {
          "output_type": "execute_result",
          "data": {
            "text/plain": [
              "torch.Size([1, 9])"
            ]
          },
          "metadata": {},
          "execution_count": 31
        }
      ]
    },
    {
      "cell_type": "code",
      "source": [
        "#changing z changes x (because a view of a tensor shares the same memory as the original input)\n",
        "z[:,0]=5\n",
        "z,x\n"
      ],
      "metadata": {
        "colab": {
          "base_uri": "https://localhost:8080/"
        },
        "id": "Vqlz82eQ606w",
        "outputId": "a49f1fb1-f0ac-407a-841b-c88b6f65800c"
      },
      "execution_count": 32,
      "outputs": [
        {
          "output_type": "execute_result",
          "data": {
            "text/plain": [
              "(tensor([[5, 2, 3, 4, 5, 6, 7, 8, 9]]), tensor([5, 2, 3, 4, 5, 6, 7, 8, 9]))"
            ]
          },
          "metadata": {},
          "execution_count": 32
        }
      ]
    },
    {
      "cell_type": "code",
      "source": [],
      "metadata": {
        "id": "FaKOnGtn7dop"
      },
      "execution_count": 32,
      "outputs": []
    },
    {
      "cell_type": "code",
      "source": [
        "#stack tensors on top of each other\n",
        "\n",
        "x_stacked = torch.stack([x,x,x,x,x],dim=1 ) #verticle stacking for horizontal stacking dim=0\n",
        "x_stacked"
      ],
      "metadata": {
        "colab": {
          "base_uri": "https://localhost:8080/"
        },
        "id": "3aBVkKsH7S85",
        "outputId": "1cad66fb-ee0f-4f82-cd59-3afc527857c9"
      },
      "execution_count": 33,
      "outputs": [
        {
          "output_type": "execute_result",
          "data": {
            "text/plain": [
              "tensor([[5, 5, 5, 5, 5],\n",
              "        [2, 2, 2, 2, 2],\n",
              "        [3, 3, 3, 3, 3],\n",
              "        [4, 4, 4, 4, 4],\n",
              "        [5, 5, 5, 5, 5],\n",
              "        [6, 6, 6, 6, 6],\n",
              "        [7, 7, 7, 7, 7],\n",
              "        [8, 8, 8, 8, 8],\n",
              "        [9, 9, 9, 9, 9]])"
            ]
          },
          "metadata": {},
          "execution_count": 33
        }
      ]
    },
    {
      "cell_type": "code",
      "source": [
        "#torch.squeeze() removes all single dimensions from a target tensor\n",
        "\n",
        "x_reshaped.shape\n",
        "x_squeezed = x_reshaped.squeeze()\n",
        "x_squeezed.shape\n"
      ],
      "metadata": {
        "id": "h91z4scPFF92",
        "colab": {
          "base_uri": "https://localhost:8080/"
        },
        "outputId": "d640f49d-39a3-4d1d-cce2-ccfe6ea9185d"
      },
      "execution_count": 34,
      "outputs": [
        {
          "output_type": "execute_result",
          "data": {
            "text/plain": [
              "torch.Size([9])"
            ]
          },
          "metadata": {},
          "execution_count": 34
        }
      ]
    },
    {
      "cell_type": "code",
      "source": [
        "#unsqueeze\n",
        "\n",
        "\n",
        "x_unsqueeze = x_squeezed.unsqueeze(dim=0)\n",
        "x_unsqueeze.shape"
      ],
      "metadata": {
        "id": "Ale91sFWFD9s",
        "colab": {
          "base_uri": "https://localhost:8080/"
        },
        "outputId": "b1ef2d4d-569e-4e56-915f-157ee5d27ebd"
      },
      "execution_count": 35,
      "outputs": [
        {
          "output_type": "execute_result",
          "data": {
            "text/plain": [
              "torch.Size([1, 9])"
            ]
          },
          "metadata": {},
          "execution_count": 35
        }
      ]
    },
    {
      "cell_type": "code",
      "source": [],
      "metadata": {
        "id": "8zXK6Zy1HVWL"
      },
      "execution_count": 35,
      "outputs": []
    },
    {
      "cell_type": "code",
      "source": [
        "#torch.permute actually used to rearrange the axis\n",
        "\n",
        "image = torch.rand(size=(3,4,4))\n",
        "image.shape"
      ],
      "metadata": {
        "colab": {
          "base_uri": "https://localhost:8080/"
        },
        "id": "xCNId1yoGZiB",
        "outputId": "c6b640e9-5bf9-4728-c72f-cd3af530d320"
      },
      "execution_count": 36,
      "outputs": [
        {
          "output_type": "execute_result",
          "data": {
            "text/plain": [
              "torch.Size([3, 4, 4])"
            ]
          },
          "metadata": {},
          "execution_count": 36
        }
      ]
    },
    {
      "cell_type": "code",
      "source": [
        "image_permuted = image.permute(2,1,0)\n",
        "\n",
        "image_permuted.shape"
      ],
      "metadata": {
        "colab": {
          "base_uri": "https://localhost:8080/"
        },
        "id": "Vai1xWmqG0KA",
        "outputId": "a38a36fa-d265-4efc-fe4b-b6049392bd8c"
      },
      "execution_count": 37,
      "outputs": [
        {
          "output_type": "execute_result",
          "data": {
            "text/plain": [
              "torch.Size([4, 4, 3])"
            ]
          },
          "metadata": {},
          "execution_count": 37
        }
      ]
    },
    {
      "cell_type": "code",
      "source": [
        "image[0,0,0] = 0.1111\n"
      ],
      "metadata": {
        "id": "mtcSSAJQIs8k"
      },
      "execution_count": 38,
      "outputs": []
    },
    {
      "cell_type": "code",
      "source": [
        "image"
      ],
      "metadata": {
        "colab": {
          "base_uri": "https://localhost:8080/"
        },
        "id": "OEjes4cMI54P",
        "outputId": "3817f8f7-e55e-4837-8e34-a70974c49c91"
      },
      "execution_count": 39,
      "outputs": [
        {
          "output_type": "execute_result",
          "data": {
            "text/plain": [
              "tensor([[[0.1111, 0.2834, 0.0877, 0.1772],\n",
              "         [0.0638, 0.8947, 0.6051, 0.4741],\n",
              "         [0.5838, 0.5813, 0.9742, 0.1194],\n",
              "         [0.5860, 0.2301, 0.7690, 0.7317]],\n",
              "\n",
              "        [[0.2263, 0.3199, 0.0264, 0.1157],\n",
              "         [0.9768, 0.2470, 0.3045, 0.1930],\n",
              "         [0.7213, 0.8560, 0.1917, 0.8181],\n",
              "         [0.1487, 0.3793, 0.1795, 0.5883]],\n",
              "\n",
              "        [[0.6548, 0.6000, 0.1777, 0.0236],\n",
              "         [0.5985, 0.8387, 0.3577, 0.7539],\n",
              "         [0.3728, 0.2506, 0.8138, 0.4027],\n",
              "         [0.4187, 0.0887, 0.2568, 0.5093]]])"
            ]
          },
          "metadata": {},
          "execution_count": 39
        }
      ]
    },
    {
      "cell_type": "code",
      "source": [
        "image_permuted"
      ],
      "metadata": {
        "colab": {
          "base_uri": "https://localhost:8080/"
        },
        "id": "fEydLVKPIYJR",
        "outputId": "b787d0c5-1b02-453f-ca4c-aa4059b0c94e"
      },
      "execution_count": 40,
      "outputs": [
        {
          "output_type": "execute_result",
          "data": {
            "text/plain": [
              "tensor([[[0.1111, 0.2263, 0.6548],\n",
              "         [0.0638, 0.9768, 0.5985],\n",
              "         [0.5838, 0.7213, 0.3728],\n",
              "         [0.5860, 0.1487, 0.4187]],\n",
              "\n",
              "        [[0.2834, 0.3199, 0.6000],\n",
              "         [0.8947, 0.2470, 0.8387],\n",
              "         [0.5813, 0.8560, 0.2506],\n",
              "         [0.2301, 0.3793, 0.0887]],\n",
              "\n",
              "        [[0.0877, 0.0264, 0.1777],\n",
              "         [0.6051, 0.3045, 0.3577],\n",
              "         [0.9742, 0.1917, 0.8138],\n",
              "         [0.7690, 0.1795, 0.2568]],\n",
              "\n",
              "        [[0.1772, 0.1157, 0.0236],\n",
              "         [0.4741, 0.1930, 0.7539],\n",
              "         [0.1194, 0.8181, 0.4027],\n",
              "         [0.7317, 0.5883, 0.5093]]])"
            ]
          },
          "metadata": {},
          "execution_count": 40
        }
      ]
    },
    {
      "cell_type": "markdown",
      "source": [
        "Indexing in tensor\n"
      ],
      "metadata": {
        "id": "Sg85sFVaJ60h"
      }
    },
    {
      "cell_type": "code",
      "source": [
        "#pytroch with numpy\n",
        "\n",
        "import torch\n",
        "import numpy as np\n",
        "\n",
        "array = np.arange(1.0,8.0)\n",
        "tensor = torch.from_numpy(array)#to convert torch data into numpy data\n",
        "array,tensor\n"
      ],
      "metadata": {
        "id": "e9Dcyrp-KALl",
        "colab": {
          "base_uri": "https://localhost:8080/"
        },
        "outputId": "dcfe6a50-4ca5-47fe-f212-6d7ef1c9cc2c"
      },
      "execution_count": 41,
      "outputs": [
        {
          "output_type": "execute_result",
          "data": {
            "text/plain": [
              "(array([1., 2., 3., 4., 5., 6., 7.]),\n",
              " tensor([1., 2., 3., 4., 5., 6., 7.], dtype=torch.float64))"
            ]
          },
          "metadata": {},
          "execution_count": 41
        }
      ]
    },
    {
      "cell_type": "code",
      "source": [
        "array.dtype,tensor.dtype #torch default dtype is float32 but num dtype is float 54\n"
      ],
      "metadata": {
        "colab": {
          "base_uri": "https://localhost:8080/"
        },
        "id": "cogXPeBaTA26",
        "outputId": "d478b438-fcd0-47a5-dce3-39617a58be29"
      },
      "execution_count": 42,
      "outputs": [
        {
          "output_type": "execute_result",
          "data": {
            "text/plain": [
              "(dtype('float64'), torch.float64)"
            ]
          },
          "metadata": {},
          "execution_count": 42
        }
      ]
    },
    {
      "cell_type": "code",
      "source": [
        "tensor.type(torch.float32).dtype"
      ],
      "metadata": {
        "colab": {
          "base_uri": "https://localhost:8080/"
        },
        "id": "XT5ILbhqTpG4",
        "outputId": "53ead373-27d3-43a3-f01e-16f3162fa24c"
      },
      "execution_count": 43,
      "outputs": [
        {
          "output_type": "execute_result",
          "data": {
            "text/plain": [
              "torch.float32"
            ]
          },
          "metadata": {},
          "execution_count": 43
        }
      ]
    },
    {
      "cell_type": "markdown",
      "source": [
        "#reproducability (trying random out random values)"
      ],
      "metadata": {
        "id": "ij3mtaCNUgrK"
      }
    },
    {
      "cell_type": "code",
      "source": [
        "# to reduce the randomness in NN we use random seed\n",
        "import torch\n",
        "random_tensor_a = torch.rand(3,4)\n",
        "random_tensor_b = torch.rand(3,4)\n",
        "\n",
        "print(random_tensor_a)\n",
        "print(random_tensor_b)\n",
        "\n",
        "print(random_tensor_a == random_tensor_b)"
      ],
      "metadata": {
        "colab": {
          "base_uri": "https://localhost:8080/"
        },
        "id": "aPDGF9yvVL26",
        "outputId": "71345f6a-5fa9-491d-fb8e-85e220116da8"
      },
      "execution_count": 44,
      "outputs": [
        {
          "output_type": "stream",
          "name": "stdout",
          "text": [
            "tensor([[0.3513, 0.3088, 0.3425, 0.6114],\n",
            "        [0.6570, 0.7720, 0.5097, 0.3518],\n",
            "        [0.5213, 0.3538, 0.4823, 0.3716]])\n",
            "tensor([[0.7973, 0.3179, 0.3278, 0.3731],\n",
            "        [0.8394, 0.4968, 0.7413, 0.9016],\n",
            "        [0.1402, 0.4200, 0.1615, 0.9181]])\n",
            "tensor([[False, False, False, False],\n",
            "        [False, False, False, False],\n",
            "        [False, False, False, False]])\n"
          ]
        }
      ]
    },
    {
      "cell_type": "code",
      "source": [
        "#random tensors but reproducable\n",
        "\n",
        "RANDOM_SEED = 32\n",
        "torch.manual_seed(RANDOM_SEED)#whenever we want to random seed use for each random called\n",
        "random_tensor_c = torch.rand(3,4)\n",
        "\n",
        "torch.manual_seed(RANDOM_SEED)\n",
        "random_tensor_d = torch.rand(3,4)\n",
        "\n",
        "print(random_tensor_c)\n",
        "print(random_tensor_d)\n",
        "\n",
        "print(random_tensor_c == random_tensor_d)"
      ],
      "metadata": {
        "colab": {
          "base_uri": "https://localhost:8080/"
        },
        "id": "CXZA97cSWTgJ",
        "outputId": "c138922d-97db-460f-fa1a-7951a0e9c064"
      },
      "execution_count": 45,
      "outputs": [
        {
          "output_type": "stream",
          "name": "stdout",
          "text": [
            "tensor([[0.8757, 0.2721, 0.4141, 0.7857],\n",
            "        [0.1130, 0.5793, 0.6481, 0.0229],\n",
            "        [0.5874, 0.3254, 0.9485, 0.5219]])\n",
            "tensor([[0.8757, 0.2721, 0.4141, 0.7857],\n",
            "        [0.1130, 0.5793, 0.6481, 0.0229],\n",
            "        [0.5874, 0.3254, 0.9485, 0.5219]])\n",
            "tensor([[True, True, True, True],\n",
            "        [True, True, True, True],\n",
            "        [True, True, True, True]])\n"
          ]
        }
      ]
    },
    {
      "cell_type": "markdown",
      "source": [
        "##Running tensors and pytorch objects on the gpu"
      ],
      "metadata": {
        "id": "BKKNdt8AXg8X"
      }
    },
    {
      "cell_type": "code",
      "source": [
        "!nvidia-smi"
      ],
      "metadata": {
        "colab": {
          "base_uri": "https://localhost:8080/"
        },
        "id": "gsbDkZ6xXoJJ",
        "outputId": "aa9379d6-0faf-4cf3-bcde-902ffefdff46"
      },
      "execution_count": 46,
      "outputs": [
        {
          "output_type": "stream",
          "name": "stdout",
          "text": [
            "Thu Mar 13 16:47:10 2025       \n",
            "+-----------------------------------------------------------------------------------------+\n",
            "| NVIDIA-SMI 550.54.15              Driver Version: 550.54.15      CUDA Version: 12.4     |\n",
            "|-----------------------------------------+------------------------+----------------------+\n",
            "| GPU  Name                 Persistence-M | Bus-Id          Disp.A | Volatile Uncorr. ECC |\n",
            "| Fan  Temp   Perf          Pwr:Usage/Cap |           Memory-Usage | GPU-Util  Compute M. |\n",
            "|                                         |                        |               MIG M. |\n",
            "|=========================================+========================+======================|\n",
            "|   0  Tesla T4                       Off |   00000000:00:04.0 Off |                    0 |\n",
            "| N/A   59C    P8             10W /   70W |       0MiB /  15360MiB |      0%      Default |\n",
            "|                                         |                        |                  N/A |\n",
            "+-----------------------------------------+------------------------+----------------------+\n",
            "                                                                                         \n",
            "+-----------------------------------------------------------------------------------------+\n",
            "| Processes:                                                                              |\n",
            "|  GPU   GI   CI        PID   Type   Process name                              GPU Memory |\n",
            "|        ID   ID                                                               Usage      |\n",
            "|=========================================================================================|\n",
            "|  No running processes found                                                             |\n",
            "+-----------------------------------------------------------------------------------------+\n"
          ]
        }
      ]
    },
    {
      "cell_type": "code",
      "source": [
        "import torch\n",
        "torch.cuda.is_available()"
      ],
      "metadata": {
        "colab": {
          "base_uri": "https://localhost:8080/"
        },
        "id": "wTBBVgS3ZiVL",
        "outputId": "dfc578de-4ada-4347-d413-95915bdb9c1b"
      },
      "execution_count": 47,
      "outputs": [
        {
          "output_type": "execute_result",
          "data": {
            "text/plain": [
              "True"
            ]
          },
          "metadata": {},
          "execution_count": 47
        }
      ]
    },
    {
      "cell_type": "code",
      "source": [
        "#setup device agnostic code (run on gpu aste)\n",
        "device = \"cuda\" if torch.cuda.is_available() else \"cpu\"\n",
        "device"
      ],
      "metadata": {
        "colab": {
          "base_uri": "https://localhost:8080/",
          "height": 35
        },
        "id": "WxJsRyJnZtlz",
        "outputId": "5adddc3f-d364-45c5-f127-8e473e88cca2"
      },
      "execution_count": 48,
      "outputs": [
        {
          "output_type": "execute_result",
          "data": {
            "text/plain": [
              "'cuda'"
            ],
            "application/vnd.google.colaboratory.intrinsic+json": {
              "type": "string"
            }
          },
          "metadata": {},
          "execution_count": 48
        }
      ]
    },
    {
      "cell_type": "code",
      "source": [
        "#count numbers of GPU\n",
        "torch.cuda.device_count()"
      ],
      "metadata": {
        "colab": {
          "base_uri": "https://localhost:8080/"
        },
        "id": "164BOi7wZ7vf",
        "outputId": "52b3a34a-4f78-4113-c42c-95c99ebe1428"
      },
      "execution_count": 49,
      "outputs": [
        {
          "output_type": "execute_result",
          "data": {
            "text/plain": [
              "1"
            ]
          },
          "metadata": {},
          "execution_count": 49
        }
      ]
    },
    {
      "cell_type": "code",
      "source": [
        "tensor = torch.tensor([1,23,4],device = \"cpu\")\n",
        "tensor.device"
      ],
      "metadata": {
        "colab": {
          "base_uri": "https://localhost:8080/"
        },
        "id": "tUAXnCr7bHWb",
        "outputId": "59ee61b4-e981-43bd-f922-74e4bb580d78"
      },
      "execution_count": 50,
      "outputs": [
        {
          "output_type": "execute_result",
          "data": {
            "text/plain": [
              "device(type='cpu')"
            ]
          },
          "metadata": {},
          "execution_count": 50
        }
      ]
    },
    {
      "cell_type": "code",
      "source": [
        "#moving tensor to gpu if available\n",
        "#numpy won't work on\n",
        "tensor_on_gpu = tensor.to(device)\n",
        "tensor_on_gpu"
      ],
      "metadata": {
        "colab": {
          "base_uri": "https://localhost:8080/"
        },
        "id": "5PWIN8gUbhUf",
        "outputId": "3b4a6a1d-f428-44ed-b5e1-5eedd38fe96a"
      },
      "execution_count": 51,
      "outputs": [
        {
          "output_type": "execute_result",
          "data": {
            "text/plain": [
              "tensor([ 1, 23,  4], device='cuda:0')"
            ]
          },
          "metadata": {},
          "execution_count": 51
        }
      ]
    },
    {
      "cell_type": "code",
      "source": [
        ""
      ],
      "metadata": {
        "id": "zMdry7VBZpUN"
      },
      "execution_count": 51,
      "outputs": []
    }
  ]
}