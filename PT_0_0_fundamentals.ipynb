{
  "nbformat": 4,
  "nbformat_minor": 0,
  "metadata": {
    "colab": {
      "provenance": [],
      "gpuType": "T4",
      "authorship_tag": "ABX9TyNUu503saQLK8A/khzNxHmC",
      "include_colab_link": true
    },
    "kernelspec": {
      "name": "python3",
      "display_name": "Python 3"
    },
    "language_info": {
      "name": "python"
    },
    "accelerator": "GPU"
  },
  "cells": [
    {
      "cell_type": "markdown",
      "metadata": {
        "id": "view-in-github",
        "colab_type": "text"
      },
      "source": [
        "<a href=\"https://colab.research.google.com/github/shabari0019/PyTorch_YT/blob/main/PT_0_0_fundamentals.ipynb\" target=\"_parent\"><img src=\"https://colab.research.google.com/assets/colab-badge.svg\" alt=\"Open In Colab\"/></a>"
      ]
    },
    {
      "cell_type": "code",
      "execution_count": null,
      "metadata": {
        "colab": {
          "base_uri": "https://localhost:8080/"
        },
        "id": "DLYeJiV1-Msq",
        "outputId": "58abdc6a-c343-4455-b4bc-32264fd4dfcf"
      },
      "outputs": [
        {
          "output_type": "stream",
          "name": "stdout",
          "text": [
            "/bin/bash: line 1: nvidia-smi: command not found\n"
          ]
        }
      ],
      "source": [
        "!nvidia-smi"
      ]
    },
    {
      "cell_type": "code",
      "source": [
        "import torch\n",
        "import pandas as pd\n",
        "import numpy as np\n",
        "import matplotlib.pyplot as plt\n"
      ],
      "metadata": {
        "id": "lnYsZxW6AO7J"
      },
      "execution_count": null,
      "outputs": []
    },
    {
      "cell_type": "code",
      "source": [
        "print(torch.__version__)\n"
      ],
      "metadata": {
        "colab": {
          "base_uri": "https://localhost:8080/"
        },
        "id": "TyEiYqyQA55K",
        "outputId": "9da42916-4604-4fd6-cc6d-62d85144caeb"
      },
      "execution_count": null,
      "outputs": [
        {
          "output_type": "stream",
          "name": "stdout",
          "text": [
            "2.5.1+cu124\n"
          ]
        }
      ]
    },
    {
      "cell_type": "code",
      "source": [
        "#scalar\n",
        "scalar = torch.tensor(7)\n",
        "scalar"
      ],
      "metadata": {
        "colab": {
          "base_uri": "https://localhost:8080/"
        },
        "id": "pifYweZnB9aT",
        "outputId": "385c9f0e-25d8-47f1-e21b-cb6dafe6cbde"
      },
      "execution_count": null,
      "outputs": [
        {
          "output_type": "execute_result",
          "data": {
            "text/plain": [
              "tensor(7)"
            ]
          },
          "metadata": {},
          "execution_count": 4
        }
      ]
    },
    {
      "cell_type": "markdown",
      "source": [],
      "metadata": {
        "id": "O9hOF996ADDS"
      }
    },
    {
      "cell_type": "code",
      "source": [
        "scalar.ndim"
      ],
      "metadata": {
        "colab": {
          "base_uri": "https://localhost:8080/"
        },
        "id": "Rxq2iYUi_0Fo",
        "outputId": "d9f89015-7f31-48f5-8a35-14539d4b73fa"
      },
      "execution_count": null,
      "outputs": [
        {
          "output_type": "execute_result",
          "data": {
            "text/plain": [
              "0"
            ]
          },
          "metadata": {},
          "execution_count": 5
        }
      ]
    },
    {
      "cell_type": "code",
      "source": [
        "scalar.item()"
      ],
      "metadata": {
        "colab": {
          "base_uri": "https://localhost:8080/"
        },
        "id": "MKlIIUakAL-r",
        "outputId": "717baa4a-d71e-41e6-92e0-f569840f4a2a"
      },
      "execution_count": null,
      "outputs": [
        {
          "output_type": "execute_result",
          "data": {
            "text/plain": [
              "7"
            ]
          },
          "metadata": {},
          "execution_count": 6
        }
      ]
    },
    {
      "cell_type": "code",
      "source": [
        "vector = torch.tensor([7,7,7,7])\n",
        "vector"
      ],
      "metadata": {
        "colab": {
          "base_uri": "https://localhost:8080/"
        },
        "id": "_As1A4ywATiZ",
        "outputId": "be595bcc-b17c-4a3e-e128-ba2021dd2f27"
      },
      "execution_count": null,
      "outputs": [
        {
          "output_type": "execute_result",
          "data": {
            "text/plain": [
              "tensor([7, 7, 7, 7])"
            ]
          },
          "metadata": {},
          "execution_count": 7
        }
      ]
    },
    {
      "cell_type": "code",
      "source": [
        "vector.ndim"
      ],
      "metadata": {
        "colab": {
          "base_uri": "https://localhost:8080/"
        },
        "id": "EmDT9bOJAsVd",
        "outputId": "da914ee0-575f-4b89-bbc6-bda9701075e4"
      },
      "execution_count": null,
      "outputs": [
        {
          "output_type": "execute_result",
          "data": {
            "text/plain": [
              "1"
            ]
          },
          "metadata": {},
          "execution_count": 8
        }
      ]
    },
    {
      "cell_type": "code",
      "source": [
        "vector.shape"
      ],
      "metadata": {
        "colab": {
          "base_uri": "https://localhost:8080/"
        },
        "id": "fRjeTlcwAv8k",
        "outputId": "6842a1db-d682-4f05-f1b5-7892d108b126"
      },
      "execution_count": null,
      "outputs": [
        {
          "output_type": "execute_result",
          "data": {
            "text/plain": [
              "torch.Size([4])"
            ]
          },
          "metadata": {},
          "execution_count": 9
        }
      ]
    },
    {
      "cell_type": "code",
      "source": [],
      "metadata": {
        "id": "902RBBvVBsq2"
      },
      "execution_count": null,
      "outputs": []
    },
    {
      "cell_type": "code",
      "source": [
        "matrix = torch.tensor([[[[7,8],[5,8],[1,2]]]])\n",
        "# matrix\n",
        "\n",
        "# matrix[0][1]\n",
        "\n",
        "matrix[0][0][2][1]"
      ],
      "metadata": {
        "colab": {
          "base_uri": "https://localhost:8080/"
        },
        "id": "3dAatX0-A7wG",
        "outputId": "be30f712-5107-4b32-8dda-04c3f6496e31"
      },
      "execution_count": null,
      "outputs": [
        {
          "output_type": "execute_result",
          "data": {
            "text/plain": [
              "tensor(2)"
            ]
          },
          "metadata": {},
          "execution_count": 10
        }
      ]
    },
    {
      "cell_type": "code",
      "source": [
        "#Random tensor\n",
        "random_tensor = torch.rand(1,2,20)\n",
        "len(random_tensor[0])"
      ],
      "metadata": {
        "colab": {
          "base_uri": "https://localhost:8080/"
        },
        "id": "e3LCm5aHD7cb",
        "outputId": "658e1389-8133-49f9-b198-bedea0032965"
      },
      "execution_count": null,
      "outputs": [
        {
          "output_type": "execute_result",
          "data": {
            "text/plain": [
              "2"
            ]
          },
          "metadata": {},
          "execution_count": 11
        }
      ]
    },
    {
      "cell_type": "code",
      "source": [
        "#Random tesnsor with similar shape to image tensor\n",
        "random_image_tensor = torch.rand(size=(8,8,3))\n",
        "random_image_tensor.shape, random_image_tensor.ndim\n",
        "#random_image_tensor\n",
        "\n"
      ],
      "metadata": {
        "colab": {
          "base_uri": "https://localhost:8080/"
        },
        "id": "ILZUGTdwFT1A",
        "outputId": "a9191983-e565-4b99-e385-7d593d23c57c"
      },
      "execution_count": null,
      "outputs": [
        {
          "output_type": "execute_result",
          "data": {
            "text/plain": [
              "(torch.Size([8, 8, 3]), 3)"
            ]
          },
          "metadata": {},
          "execution_count": 12
        }
      ]
    },
    {
      "cell_type": "code",
      "source": [
        "#create tensor with all zeros\n",
        "\n",
        "zeros = torch.zeros(size=(3,4))\n",
        "zeros.dtype\n",
        "\n",
        "\n",
        "ones = torch.ones(size=(3,4))\n",
        "ones"
      ],
      "metadata": {
        "colab": {
          "base_uri": "https://localhost:8080/"
        },
        "id": "QlIpK0YgG0Cg",
        "outputId": "ec42508e-866c-45ba-f051-a0bceca5f4d6"
      },
      "execution_count": null,
      "outputs": [
        {
          "output_type": "execute_result",
          "data": {
            "text/plain": [
              "tensor([[1., 1., 1., 1.],\n",
              "        [1., 1., 1., 1.],\n",
              "        [1., 1., 1., 1.]])"
            ]
          },
          "metadata": {},
          "execution_count": 13
        }
      ]
    },
    {
      "cell_type": "code",
      "source": [
        "#creating a range of tensor and tensor-like\n",
        "range = torch.arange(3,10)\n",
        "range_zeros = torch.zeros_like(range )\n",
        "range_zeros"
      ],
      "metadata": {
        "colab": {
          "base_uri": "https://localhost:8080/"
        },
        "id": "ow4EkbLlHVr2",
        "outputId": "542bb6d7-d7f4-40c7-944d-72389b0bc9d0"
      },
      "execution_count": null,
      "outputs": [
        {
          "output_type": "execute_result",
          "data": {
            "text/plain": [
              "tensor([0, 0, 0, 0, 0, 0, 0])"
            ]
          },
          "metadata": {},
          "execution_count": 14
        }
      ]
    },
    {
      "cell_type": "markdown",
      "source": [
        "**# Datatype ='tensor.dtype',shape='tensor.shape',on right device = tensor.device comman errors we may encounter**\n",
        "\n",
        "\n",
        "devices means where it runs like CUDA or CPU\n",
        "\n",
        "whether to track gradients\n",
        "\n",
        "\n",
        "\n",
        "\n"
      ],
      "metadata": {
        "id": "sYAdzcdTVFhl"
      }
    },
    {
      "cell_type": "code",
      "source": [
        "f32 = torch.tensor([3.0,5.0,9.0],dtype = None,\n",
        "                                device=None,\n",
        "                  requires_grad=False)\n",
        "#default data type in tensor is float\n",
        "f32.dtype\n"
      ],
      "metadata": {
        "colab": {
          "base_uri": "https://localhost:8080/"
        },
        "id": "5kCxX7rDH42I",
        "outputId": "fbe5275b-e2db-414c-810d-82e17c6f5876"
      },
      "execution_count": null,
      "outputs": [
        {
          "output_type": "execute_result",
          "data": {
            "text/plain": [
              "torch.float32"
            ]
          },
          "metadata": {},
          "execution_count": 15
        }
      ]
    },
    {
      "cell_type": "code",
      "source": [
        "#whenever we get datatype error\n",
        "\n",
        "f16 = f32.type(torch.float16)\n",
        "\n",
        "f16.dtype"
      ],
      "metadata": {
        "colab": {
          "base_uri": "https://localhost:8080/"
        },
        "id": "S_9jMpQzVaO4",
        "outputId": "e4260e06-79a4-449f-ec19-2921e3fd5c20"
      },
      "execution_count": null,
      "outputs": [
        {
          "output_type": "execute_result",
          "data": {
            "text/plain": [
              "torch.float16"
            ]
          },
          "metadata": {},
          "execution_count": 16
        }
      ]
    },
    {
      "cell_type": "code",
      "source": [
        "f32*f16"
      ],
      "metadata": {
        "colab": {
          "base_uri": "https://localhost:8080/"
        },
        "id": "ta-ixXYbWNF2",
        "outputId": "441105fd-c8eb-4859-e41c-a8eeb75ba9cf"
      },
      "execution_count": null,
      "outputs": [
        {
          "output_type": "execute_result",
          "data": {
            "text/plain": [
              "tensor([ 9., 25., 81.])"
            ]
          },
          "metadata": {},
          "execution_count": 17
        }
      ]
    },
    {
      "cell_type": "code",
      "source": [
        "int_32_tensor = torch.tensor([3,4,5],dtype = torch.int32)\n",
        "\n",
        "f16*int_32_tensor"
      ],
      "metadata": {
        "colab": {
          "base_uri": "https://localhost:8080/"
        },
        "id": "cBpbF4VVsHXY",
        "outputId": "1986e49f-66a7-45cb-8866-d2b72cb16f34"
      },
      "execution_count": null,
      "outputs": [
        {
          "output_type": "execute_result",
          "data": {
            "text/plain": [
              "tensor([ 9., 20., 45.], dtype=torch.float16)"
            ]
          },
          "metadata": {},
          "execution_count": 18
        }
      ]
    },
    {
      "cell_type": "code",
      "source": [
        "some_tensor = torch.rand(3,4)\n",
        "changed = some_tensor.type(torch.int32)\n",
        "print(some_tensor)\n",
        "\n",
        "print(changed.dtype)\n",
        "print(f\"Shape of tensor: {some_tensor.shape}\")\n",
        "print(f\"Datatype of tensor: {some_tensor.dtype}\")\n",
        "print(f\"Device tensor is stored on: {some_tensor.device}\")"
      ],
      "metadata": {
        "colab": {
          "base_uri": "https://localhost:8080/"
        },
        "id": "pi2o965nsx2z",
        "outputId": "2bec52ed-60c4-4f5f-8d39-cbd42e40e801"
      },
      "execution_count": null,
      "outputs": [
        {
          "output_type": "stream",
          "name": "stdout",
          "text": [
            "tensor([[0.7678, 0.6628, 0.6209, 0.2738],\n",
            "        [0.7250, 0.3052, 0.2541, 0.2983],\n",
            "        [0.2027, 0.0087, 0.8922, 0.9871]])\n",
            "torch.int32\n",
            "Shape of tensor: torch.Size([3, 4])\n",
            "Datatype of tensor: torch.float32\n",
            "Device tensor is stored on: cpu\n"
          ]
        }
      ]
    },
    {
      "cell_type": "code",
      "source": [],
      "metadata": {
        "id": "lkQ7zeVnvSjI"
      },
      "execution_count": null,
      "outputs": []
    },
    {
      "cell_type": "markdown",
      "source": [
        "###manipulating tensors\n",
        "Tensor operation\n",
        "Addition\n",
        "Substraction\n",
        "Multiplication (elementwise)\n",
        "Division\n",
        "Matrix multiplation\n"
      ],
      "metadata": {
        "id": "o_GEN4xxu8uQ"
      }
    },
    {
      "cell_type": "code",
      "source": [
        "tensor = torch.tensor([1,23,3])\n",
        "tensor +10\n"
      ],
      "metadata": {
        "colab": {
          "base_uri": "https://localhost:8080/"
        },
        "id": "P62oPs6avPbD",
        "outputId": "7ce900e6-3da7-4ce4-cd56-899995bcc369"
      },
      "execution_count": null,
      "outputs": [
        {
          "output_type": "execute_result",
          "data": {
            "text/plain": [
              "tensor([11, 33, 13])"
            ]
          },
          "metadata": {},
          "execution_count": 20
        }
      ]
    },
    {
      "cell_type": "code",
      "source": [
        "tensor*10\n",
        "tensor-10\n"
      ],
      "metadata": {
        "colab": {
          "base_uri": "https://localhost:8080/"
        },
        "id": "YDvOVJlawbXz",
        "outputId": "dad1448c-f9b5-42bd-b598-cc1c43089842"
      },
      "execution_count": null,
      "outputs": [
        {
          "output_type": "execute_result",
          "data": {
            "text/plain": [
              "tensor([-9, 13, -7])"
            ]
          },
          "metadata": {},
          "execution_count": 21
        }
      ]
    },
    {
      "cell_type": "code",
      "source": [
        "mul = torch.mul(tensor,10)\n",
        "mul"
      ],
      "metadata": {
        "colab": {
          "base_uri": "https://localhost:8080/"
        },
        "id": "7iRz4yTFzcOo",
        "outputId": "24589212-263c-4d6a-e65e-8f705f4de936"
      },
      "execution_count": null,
      "outputs": [
        {
          "output_type": "execute_result",
          "data": {
            "text/plain": [
              "tensor([ 10, 230,  30])"
            ]
          },
          "metadata": {},
          "execution_count": 22
        }
      ]
    },
    {
      "cell_type": "code",
      "source": [
        "#matrix multiplication(dot product)\n",
        "\n",
        "result = torch.matmul(torch.rand(3,1),torch.rand(1,4))\n",
        "result.shape\n"
      ],
      "metadata": {
        "colab": {
          "base_uri": "https://localhost:8080/"
        },
        "id": "82uL1CGJ4j0e",
        "outputId": "9f9142b8-cb6c-4071-fc9f-9ddf1b6827da"
      },
      "execution_count": null,
      "outputs": [
        {
          "output_type": "execute_result",
          "data": {
            "text/plain": [
              "torch.Size([3, 4])"
            ]
          },
          "metadata": {},
          "execution_count": 23
        }
      ]
    },
    {
      "cell_type": "code",
      "source": [
        "tensor_a = torch.tensor([\n",
        "    [1,2],\n",
        "    [4,5],\n",
        "    [5,9]]\n",
        ")\n",
        "\n",
        "\n",
        "tensor_b = torch.tensor([\n",
        "    [6,9],\n",
        "    [2,8],\n",
        "    [7,1]]\n",
        ")\n",
        "\n",
        "\n",
        "tensor_a.shape"
      ],
      "metadata": {
        "colab": {
          "base_uri": "https://localhost:8080/"
        },
        "id": "BHJCGjkR5z0W",
        "outputId": "97ac720a-c279-45d7-e71c-43fd47e71798"
      },
      "execution_count": null,
      "outputs": [
        {
          "output_type": "execute_result",
          "data": {
            "text/plain": [
              "torch.Size([3, 2])"
            ]
          },
          "metadata": {},
          "execution_count": 24
        }
      ]
    },
    {
      "cell_type": "code",
      "source": [
        "#to fix tensor shape issues we can manipulate\n",
        "\n",
        "tensor_b.T\n",
        "tensor_b.T.shape"
      ],
      "metadata": {
        "colab": {
          "base_uri": "https://localhost:8080/"
        },
        "id": "ftHKp2YdABvX",
        "outputId": "6514e2f5-fd61-4170-b134-7226d999d888"
      },
      "execution_count": null,
      "outputs": [
        {
          "output_type": "execute_result",
          "data": {
            "text/plain": [
              "torch.Size([2, 3])"
            ]
          },
          "metadata": {},
          "execution_count": 25
        }
      ]
    },
    {
      "cell_type": "code",
      "source": [
        "\n",
        "mul_result = torch.matmul(tensor_a,tensor_b.T)\n",
        "mul_result.shape\n"
      ],
      "metadata": {
        "colab": {
          "base_uri": "https://localhost:8080/"
        },
        "id": "B2pl7nYaAP4a",
        "outputId": "f86f7606-20a0-4669-acd6-e2c77ee4b5d2"
      },
      "execution_count": null,
      "outputs": [
        {
          "output_type": "execute_result",
          "data": {
            "text/plain": [
              "torch.Size([3, 3])"
            ]
          },
          "metadata": {},
          "execution_count": 26
        }
      ]
    },
    {
      "cell_type": "code",
      "source": [
        "#finding min,max,sum,mean\n",
        "\n",
        "x = torch.arange(0,100,10)\n",
        "\n",
        "print(torch.min(x))\n",
        "\n",
        "print(torch.max(x))\n",
        "\n",
        "print(torch.sum(x))\n",
        "\n",
        "print(torch.mean(x.type(torch.float32)))\n",
        "\n"
      ],
      "metadata": {
        "colab": {
          "base_uri": "https://localhost:8080/"
        },
        "id": "MaTXh0dwCXkX",
        "outputId": "e1968ea4-d547-4b52-d7c0-af62074b3296"
      },
      "execution_count": null,
      "outputs": [
        {
          "output_type": "stream",
          "name": "stdout",
          "text": [
            "tensor(0)\n",
            "tensor(90)\n",
            "tensor(450)\n",
            "tensor(45.)\n"
          ]
        }
      ]
    },
    {
      "cell_type": "code",
      "source": [
        "x.dtype"
      ],
      "metadata": {
        "colab": {
          "base_uri": "https://localhost:8080/"
        },
        "id": "xcIFhEf5C7dV",
        "outputId": "88b38b6d-bb1e-46d5-c96e-638e17edcd42"
      },
      "execution_count": null,
      "outputs": [
        {
          "output_type": "execute_result",
          "data": {
            "text/plain": [
              "torch.int64"
            ]
          },
          "metadata": {},
          "execution_count": 28
        }
      ]
    },
    {
      "cell_type": "markdown",
      "source": [
        "#Reshaping stacking squeezing and unsqueezing\n",
        "\n",
        "*reshapes an input to a defined shape\n",
        "\n",
        "*squeeze removes all 1 dimension from a tensor\n",
        "\n",
        "*stacking combining multiple tensors on top of each other or side by side"
      ],
      "metadata": {
        "id": "qstAFRz7C9Q3"
      }
    },
    {
      "cell_type": "code",
      "source": [
        "import torch\n",
        "x = torch.arange(1,10)\n",
        "x"
      ],
      "metadata": {
        "colab": {
          "base_uri": "https://localhost:8080/"
        },
        "id": "rt5ZMxmLFUEM",
        "outputId": "b72eb5a2-2e79-439e-84b0-5b74bb21ee93"
      },
      "execution_count": null,
      "outputs": [
        {
          "output_type": "execute_result",
          "data": {
            "text/plain": [
              "tensor([1, 2, 3, 4, 5, 6, 7, 8, 9])"
            ]
          },
          "metadata": {},
          "execution_count": 29
        }
      ]
    },
    {
      "cell_type": "code",
      "source": [
        "#add extra dimension\n",
        "x_reshaped = x.reshape(1,9)\n",
        "x_reshaped"
      ],
      "metadata": {
        "colab": {
          "base_uri": "https://localhost:8080/"
        },
        "id": "3R04qNJOGNmW",
        "outputId": "5b478640-5f2a-4da6-b05f-08fb56f03c60"
      },
      "execution_count": null,
      "outputs": [
        {
          "output_type": "execute_result",
          "data": {
            "text/plain": [
              "tensor([[1, 2, 3, 4, 5, 6, 7, 8, 9]])"
            ]
          },
          "metadata": {},
          "execution_count": 30
        }
      ]
    },
    {
      "cell_type": "code",
      "source": [
        "#change the view\n",
        "\n",
        "z = x.view(1,9)\n",
        "z.shape"
      ],
      "metadata": {
        "id": "hQMZOJK7G0B9",
        "colab": {
          "base_uri": "https://localhost:8080/"
        },
        "outputId": "abd48954-2d2d-4d2f-cab2-c9fa1c2abe39"
      },
      "execution_count": null,
      "outputs": [
        {
          "output_type": "execute_result",
          "data": {
            "text/plain": [
              "torch.Size([1, 9])"
            ]
          },
          "metadata": {},
          "execution_count": 31
        }
      ]
    },
    {
      "cell_type": "code",
      "source": [
        "#changing z changes x (because a view of a tensor shares the same memory as the original input)\n",
        "z[:,0]=5\n",
        "z,x\n"
      ],
      "metadata": {
        "colab": {
          "base_uri": "https://localhost:8080/"
        },
        "id": "Vqlz82eQ606w",
        "outputId": "2ea997d5-1a01-48a3-919e-a625cb409720"
      },
      "execution_count": null,
      "outputs": [
        {
          "output_type": "execute_result",
          "data": {
            "text/plain": [
              "(tensor([[5, 2, 3, 4, 5, 6, 7, 8, 9]]), tensor([5, 2, 3, 4, 5, 6, 7, 8, 9]))"
            ]
          },
          "metadata": {},
          "execution_count": 32
        }
      ]
    },
    {
      "cell_type": "code",
      "source": [],
      "metadata": {
        "id": "FaKOnGtn7dop"
      },
      "execution_count": null,
      "outputs": []
    },
    {
      "cell_type": "code",
      "source": [
        "#stack tensors on top of each other\n",
        "\n",
        "x_stacked = torch.stack([x,x,x,x,x],dim=1 ) #verticle stacking for horizontal stacking dim=0\n",
        "x_stacked"
      ],
      "metadata": {
        "colab": {
          "base_uri": "https://localhost:8080/"
        },
        "id": "3aBVkKsH7S85",
        "outputId": "2ffa1ca0-abe3-41b3-eabd-216c53e001a2"
      },
      "execution_count": null,
      "outputs": [
        {
          "output_type": "execute_result",
          "data": {
            "text/plain": [
              "tensor([[5, 5, 5, 5, 5],\n",
              "        [2, 2, 2, 2, 2],\n",
              "        [3, 3, 3, 3, 3],\n",
              "        [4, 4, 4, 4, 4],\n",
              "        [5, 5, 5, 5, 5],\n",
              "        [6, 6, 6, 6, 6],\n",
              "        [7, 7, 7, 7, 7],\n",
              "        [8, 8, 8, 8, 8],\n",
              "        [9, 9, 9, 9, 9]])"
            ]
          },
          "metadata": {},
          "execution_count": 33
        }
      ]
    },
    {
      "cell_type": "code",
      "source": [
        "#torch.squeeze() removes all single dimensions from a target tensor\n",
        "\n",
        "x_reshaped.shape\n",
        "x_squeezed = x_reshaped.squeeze()\n",
        "x_squeezed.shape\n"
      ],
      "metadata": {
        "id": "h91z4scPFF92",
        "colab": {
          "base_uri": "https://localhost:8080/"
        },
        "outputId": "8006d13c-fd1b-4490-e1dc-cabe71e4821b"
      },
      "execution_count": null,
      "outputs": [
        {
          "output_type": "execute_result",
          "data": {
            "text/plain": [
              "torch.Size([9])"
            ]
          },
          "metadata": {},
          "execution_count": 34
        }
      ]
    },
    {
      "cell_type": "code",
      "source": [
        "#unsqueeze\n",
        "\n",
        "\n",
        "x_unsqueeze = x_squeezed.unsqueeze(dim=0)\n",
        "x_unsqueeze.shape"
      ],
      "metadata": {
        "id": "Ale91sFWFD9s",
        "colab": {
          "base_uri": "https://localhost:8080/"
        },
        "outputId": "8620cb20-774b-473d-ba23-f9f784a12929"
      },
      "execution_count": null,
      "outputs": [
        {
          "output_type": "execute_result",
          "data": {
            "text/plain": [
              "torch.Size([1, 9])"
            ]
          },
          "metadata": {},
          "execution_count": 37
        }
      ]
    },
    {
      "cell_type": "code",
      "source": [],
      "metadata": {
        "id": "8zXK6Zy1HVWL"
      },
      "execution_count": null,
      "outputs": []
    },
    {
      "cell_type": "code",
      "source": [
        "#torch.permute actually used to rearrange the axis\n",
        "\n",
        "image = torch.rand(size=(3,4,4))\n",
        "image.shape"
      ],
      "metadata": {
        "colab": {
          "base_uri": "https://localhost:8080/"
        },
        "id": "xCNId1yoGZiB",
        "outputId": "3a083f90-c055-49d5-a694-4fef0e7714b6"
      },
      "execution_count": null,
      "outputs": [
        {
          "output_type": "execute_result",
          "data": {
            "text/plain": [
              "torch.Size([3, 4, 4])"
            ]
          },
          "metadata": {},
          "execution_count": 50
        }
      ]
    },
    {
      "cell_type": "code",
      "source": [
        "image_permuted = image.permute(2,1,0)\n",
        "\n",
        "image_permuted.shape"
      ],
      "metadata": {
        "colab": {
          "base_uri": "https://localhost:8080/"
        },
        "id": "Vai1xWmqG0KA",
        "outputId": "f2d3850f-16f3-464f-8679-e4bb6672cc4d"
      },
      "execution_count": null,
      "outputs": [
        {
          "output_type": "execute_result",
          "data": {
            "text/plain": [
              "torch.Size([4, 4, 3])"
            ]
          },
          "metadata": {},
          "execution_count": 63
        }
      ]
    },
    {
      "cell_type": "code",
      "source": [
        "image[0,0,0] = 0.1111\n"
      ],
      "metadata": {
        "id": "mtcSSAJQIs8k"
      },
      "execution_count": null,
      "outputs": []
    },
    {
      "cell_type": "code",
      "source": [
        "image"
      ],
      "metadata": {
        "colab": {
          "base_uri": "https://localhost:8080/"
        },
        "id": "OEjes4cMI54P",
        "outputId": "76c5376c-48d0-4442-a4ff-7426e4c53f51"
      },
      "execution_count": null,
      "outputs": [
        {
          "output_type": "execute_result",
          "data": {
            "text/plain": [
              "tensor([[[0.1111, 0.3793, 0.1111, 0.2335],\n",
              "         [0.4376, 0.3111, 0.2425, 0.3907],\n",
              "         [0.6354, 0.9514, 0.0525, 0.5734],\n",
              "         [0.9238, 0.7113, 0.2398, 0.0203]],\n",
              "\n",
              "        [[0.7280, 0.6255, 0.8466, 0.6288],\n",
              "         [0.9468, 0.8849, 0.1413, 0.4546],\n",
              "         [0.0223, 0.0334, 0.7661, 0.5312],\n",
              "         [0.6511, 0.7816, 0.8258, 0.7016]],\n",
              "\n",
              "        [[0.4122, 0.0311, 0.9411, 0.3359],\n",
              "         [0.5949, 0.2778, 0.9473, 0.3054],\n",
              "         [0.0200, 0.1552, 0.5562, 0.1391],\n",
              "         [0.2008, 0.5915, 0.3605, 0.5103]]])"
            ]
          },
          "metadata": {},
          "execution_count": 65
        }
      ]
    },
    {
      "cell_type": "code",
      "source": [
        "image_permuted"
      ],
      "metadata": {
        "colab": {
          "base_uri": "https://localhost:8080/"
        },
        "id": "fEydLVKPIYJR",
        "outputId": "945287bf-f4ab-4d86-c606-d26e062fa124"
      },
      "execution_count": null,
      "outputs": [
        {
          "output_type": "execute_result",
          "data": {
            "text/plain": [
              "tensor([[[0.1111, 0.7280, 0.4122],\n",
              "         [0.4376, 0.9468, 0.5949],\n",
              "         [0.6354, 0.0223, 0.0200],\n",
              "         [0.9238, 0.6511, 0.2008]],\n",
              "\n",
              "        [[0.3793, 0.6255, 0.0311],\n",
              "         [0.3111, 0.8849, 0.2778],\n",
              "         [0.9514, 0.0334, 0.1552],\n",
              "         [0.7113, 0.7816, 0.5915]],\n",
              "\n",
              "        [[0.1111, 0.8466, 0.9411],\n",
              "         [0.2425, 0.1413, 0.9473],\n",
              "         [0.0525, 0.7661, 0.5562],\n",
              "         [0.2398, 0.8258, 0.3605]],\n",
              "\n",
              "        [[0.2335, 0.6288, 0.3359],\n",
              "         [0.3907, 0.4546, 0.3054],\n",
              "         [0.5734, 0.5312, 0.1391],\n",
              "         [0.0203, 0.7016, 0.5103]]])"
            ]
          },
          "metadata": {},
          "execution_count": 66
        }
      ]
    },
    {
      "cell_type": "markdown",
      "source": [
        "Indexing in tensor\n"
      ],
      "metadata": {
        "id": "Sg85sFVaJ60h"
      }
    },
    {
      "cell_type": "code",
      "source": [
        "#pytroch with numpy\n",
        "\n",
        "import torch\n",
        "import numpy as np\n",
        "\n",
        "array = np.arange(1.0,8.0)\n",
        "tensor = torch.from_numpy(array)#to convert torch data into numpy data\n",
        "array,tensor\n"
      ],
      "metadata": {
        "id": "e9Dcyrp-KALl",
        "colab": {
          "base_uri": "https://localhost:8080/"
        },
        "outputId": "aa4c8d92-bc6f-4a1c-f09e-1976683ae33b"
      },
      "execution_count": 2,
      "outputs": [
        {
          "output_type": "execute_result",
          "data": {
            "text/plain": [
              "(array([1., 2., 3., 4., 5., 6., 7.]),\n",
              " tensor([1., 2., 3., 4., 5., 6., 7.], dtype=torch.float64))"
            ]
          },
          "metadata": {},
          "execution_count": 2
        }
      ]
    },
    {
      "cell_type": "code",
      "source": [
        "array.dtype,tensor.dtype #torch default dtype is float32 but num dtype is float 54\n"
      ],
      "metadata": {
        "colab": {
          "base_uri": "https://localhost:8080/"
        },
        "id": "cogXPeBaTA26",
        "outputId": "d4ac24fc-d748-4ef8-dee2-3b4d70b8c3a1"
      },
      "execution_count": 4,
      "outputs": [
        {
          "output_type": "execute_result",
          "data": {
            "text/plain": [
              "(dtype('float64'), torch.float64)"
            ]
          },
          "metadata": {},
          "execution_count": 4
        }
      ]
    },
    {
      "cell_type": "code",
      "source": [
        "tensor.type(torch.float32).dtype"
      ],
      "metadata": {
        "colab": {
          "base_uri": "https://localhost:8080/"
        },
        "id": "XT5ILbhqTpG4",
        "outputId": "ce365ae9-41bf-4b9c-d634-365d1c034bb4"
      },
      "execution_count": 6,
      "outputs": [
        {
          "output_type": "execute_result",
          "data": {
            "text/plain": [
              "torch.float32"
            ]
          },
          "metadata": {},
          "execution_count": 6
        }
      ]
    },
    {
      "cell_type": "markdown",
      "source": [
        "#reproducability (trying random out random values)"
      ],
      "metadata": {
        "id": "ij3mtaCNUgrK"
      }
    },
    {
      "cell_type": "code",
      "source": [
        "# to reduce the randomness in NN we use random seed\n",
        "import torch\n",
        "random_tensor_a = torch.rand(3,4)\n",
        "random_tensor_b = torch.rand(3,4)\n",
        "\n",
        "print(random_tensor_a)\n",
        "print(random_tensor_b)\n",
        "\n",
        "print(random_tensor_a == random_tensor_b)"
      ],
      "metadata": {
        "colab": {
          "base_uri": "https://localhost:8080/"
        },
        "id": "aPDGF9yvVL26",
        "outputId": "94963e2e-b62e-465f-aca6-27c76e705a43"
      },
      "execution_count": 14,
      "outputs": [
        {
          "output_type": "stream",
          "name": "stdout",
          "text": [
            "tensor([[4.0529e-01, 7.4810e-01, 9.2125e-01, 6.8482e-01],\n",
            "        [4.0826e-01, 2.3972e-01, 7.9727e-04, 6.7108e-01],\n",
            "        [8.6409e-01, 9.3886e-01, 4.9022e-01, 7.2912e-01]])\n",
            "tensor([[0.5192, 0.7276, 0.3792, 0.3283],\n",
            "        [0.9010, 0.6672, 0.5574, 0.3871],\n",
            "        [0.0658, 0.7406, 0.9723, 0.3783]])\n",
            "tensor([[False, False, False, False],\n",
            "        [False, False, False, False],\n",
            "        [False, False, False, False]])\n"
          ]
        }
      ]
    },
    {
      "cell_type": "code",
      "source": [
        "#random tensors but reproducable\n",
        "\n",
        "RANDOM_SEED = 32\n",
        "torch.manual_seed(RANDOM_SEED)#whenever we want to random seed use for each random called\n",
        "random_tensor_c = torch.rand(3,4)\n",
        "\n",
        "torch.manual_seed(RANDOM_SEED)\n",
        "random_tensor_d = torch.rand(3,4)\n",
        "\n",
        "print(random_tensor_c)\n",
        "print(random_tensor_d)\n",
        "\n",
        "print(random_tensor_c == random_tensor_d)"
      ],
      "metadata": {
        "colab": {
          "base_uri": "https://localhost:8080/"
        },
        "id": "CXZA97cSWTgJ",
        "outputId": "59d99f67-624a-428c-bf8c-e3e365433cef"
      },
      "execution_count": 16,
      "outputs": [
        {
          "output_type": "stream",
          "name": "stdout",
          "text": [
            "tensor([[0.8757, 0.2721, 0.4141, 0.7857],\n",
            "        [0.1130, 0.5793, 0.6481, 0.0229],\n",
            "        [0.5874, 0.3254, 0.9485, 0.5219]])\n",
            "tensor([[0.8757, 0.2721, 0.4141, 0.7857],\n",
            "        [0.1130, 0.5793, 0.6481, 0.0229],\n",
            "        [0.5874, 0.3254, 0.9485, 0.5219]])\n",
            "tensor([[True, True, True, True],\n",
            "        [True, True, True, True],\n",
            "        [True, True, True, True]])\n"
          ]
        }
      ]
    },
    {
      "cell_type": "markdown",
      "source": [
        "##Running tensors and pytorch objects on the gpu"
      ],
      "metadata": {
        "id": "BKKNdt8AXg8X"
      }
    },
    {
      "cell_type": "code",
      "source": [
        "!nvidia-smi"
      ],
      "metadata": {
        "colab": {
          "base_uri": "https://localhost:8080/"
        },
        "id": "gsbDkZ6xXoJJ",
        "outputId": "88448ce6-de8c-4d14-ebd0-42b4d65ced8b"
      },
      "execution_count": 1,
      "outputs": [
        {
          "output_type": "stream",
          "name": "stdout",
          "text": [
            "Wed Mar 12 17:27:42 2025       \n",
            "+-----------------------------------------------------------------------------------------+\n",
            "| NVIDIA-SMI 550.54.15              Driver Version: 550.54.15      CUDA Version: 12.4     |\n",
            "|-----------------------------------------+------------------------+----------------------+\n",
            "| GPU  Name                 Persistence-M | Bus-Id          Disp.A | Volatile Uncorr. ECC |\n",
            "| Fan  Temp   Perf          Pwr:Usage/Cap |           Memory-Usage | GPU-Util  Compute M. |\n",
            "|                                         |                        |               MIG M. |\n",
            "|=========================================+========================+======================|\n",
            "|   0  Tesla T4                       Off |   00000000:00:04.0 Off |                    0 |\n",
            "| N/A   52C    P8              9W /   70W |       0MiB /  15360MiB |      0%      Default |\n",
            "|                                         |                        |                  N/A |\n",
            "+-----------------------------------------+------------------------+----------------------+\n",
            "                                                                                         \n",
            "+-----------------------------------------------------------------------------------------+\n",
            "| Processes:                                                                              |\n",
            "|  GPU   GI   CI        PID   Type   Process name                              GPU Memory |\n",
            "|        ID   ID                                                               Usage      |\n",
            "|=========================================================================================|\n",
            "|  No running processes found                                                             |\n",
            "+-----------------------------------------------------------------------------------------+\n"
          ]
        }
      ]
    },
    {
      "cell_type": "code",
      "source": [
        "import torch\n",
        "torch.cuda.is_available()"
      ],
      "metadata": {
        "colab": {
          "base_uri": "https://localhost:8080/"
        },
        "id": "wTBBVgS3ZiVL",
        "outputId": "0ee4eaad-30c7-49c5-c6ad-12f2b1bba3c3"
      },
      "execution_count": 2,
      "outputs": [
        {
          "output_type": "execute_result",
          "data": {
            "text/plain": [
              "True"
            ]
          },
          "metadata": {},
          "execution_count": 2
        }
      ]
    },
    {
      "cell_type": "code",
      "source": [
        "#setup device agnostic code (run on gpu aste)\n",
        "device = \"cuda\" if torch.cuda.is_available() else \"cpu\"\n",
        "device"
      ],
      "metadata": {
        "colab": {
          "base_uri": "https://localhost:8080/",
          "height": 35
        },
        "id": "WxJsRyJnZtlz",
        "outputId": "1452db5c-e0d2-4fc3-a1be-ef382d56c26f"
      },
      "execution_count": 3,
      "outputs": [
        {
          "output_type": "execute_result",
          "data": {
            "text/plain": [
              "'cuda'"
            ],
            "application/vnd.google.colaboratory.intrinsic+json": {
              "type": "string"
            }
          },
          "metadata": {},
          "execution_count": 3
        }
      ]
    },
    {
      "cell_type": "code",
      "source": [
        "#count numbers of GPU\n",
        "torch.cuda.device_count()"
      ],
      "metadata": {
        "colab": {
          "base_uri": "https://localhost:8080/"
        },
        "id": "164BOi7wZ7vf",
        "outputId": "e319fac8-ab06-42bc-e23b-d710922e1dfe"
      },
      "execution_count": 4,
      "outputs": [
        {
          "output_type": "execute_result",
          "data": {
            "text/plain": [
              "1"
            ]
          },
          "metadata": {},
          "execution_count": 4
        }
      ]
    }
  ]
}