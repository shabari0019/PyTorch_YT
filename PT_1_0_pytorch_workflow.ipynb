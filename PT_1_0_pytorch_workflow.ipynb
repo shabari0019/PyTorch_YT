{
  "nbformat": 4,
  "nbformat_minor": 0,
  "metadata": {
    "colab": {
      "provenance": [],
      "authorship_tag": "ABX9TyPYLNpCaV00wTLjJkj0QjCq",
      "include_colab_link": true
    },
    "kernelspec": {
      "name": "python3",
      "display_name": "Python 3"
    },
    "language_info": {
      "name": "python"
    }
  },
  "cells": [
    {
      "cell_type": "markdown",
      "metadata": {
        "id": "view-in-github",
        "colab_type": "text"
      },
      "source": [
        "<a href=\"https://colab.research.google.com/github/shabari0019/PyTorch_YT/blob/main/PT_1_0_pytorch_workflow.ipynb\" target=\"_parent\"><img src=\"https://colab.research.google.com/assets/colab-badge.svg\" alt=\"Open In Colab\"/></a>"
      ]
    },
    {
      "cell_type": "markdown",
      "source": [
        "#Pytorch workflow from end-to-end"
      ],
      "metadata": {
        "id": "zMdry7VBZpUN"
      }
    },
    {
      "cell_type": "markdown",
      "source": [
        "1 data (prepare and load)\n",
        "\n",
        "2 build model\n",
        "\n",
        "3 fitting the model to data(training)\n",
        "\n",
        "4 saving and loading\n",
        "\n",
        "5 saving and loading a model\n",
        "\n",
        "6 putting it all together"
      ],
      "metadata": {
        "id": "dAq6-aLwevkd"
      }
    },
    {
      "cell_type": "code",
      "source": [
        "\n",
        "import torch\n",
        "import matplotlib.pyplot as plt\n",
        "from torch import nn\n",
        "torch.__version__"
      ],
      "metadata": {
        "colab": {
          "base_uri": "https://localhost:8080/",
          "height": 35
        },
        "id": "YIy7mY1me5OV",
        "outputId": "3e1af977-0af9-4a9a-9615-1160d11cec56"
      },
      "execution_count": 20,
      "outputs": [
        {
          "output_type": "execute_result",
          "data": {
            "text/plain": [
              "'2.6.0+cu124'"
            ],
            "application/vnd.google.colaboratory.intrinsic+json": {
              "type": "string"
            }
          },
          "metadata": {},
          "execution_count": 20
        }
      ]
    },
    {
      "cell_type": "markdown",
      "source": [
        "##1 data preparing and loading"
      ],
      "metadata": {
        "id": "m9mx3UHLfTUc"
      }
    },
    {
      "cell_type": "code",
      "source": [
        "weight = 0.7\n",
        "bias = 0.3\n",
        "\n",
        "\n",
        "start = 0\n",
        "end =1\n",
        "step = 0.02\n",
        "X = torch.arange(start,end,step).unsqueeze(dim=1)\n",
        "y = weight * X + bias\n",
        "y\n"
      ],
      "metadata": {
        "colab": {
          "base_uri": "https://localhost:8080/"
        },
        "id": "vpQQjnQ3ffq1",
        "outputId": "0bb65f23-86c4-4ad0-996a-68f00fa52176"
      },
      "execution_count": 21,
      "outputs": [
        {
          "output_type": "execute_result",
          "data": {
            "text/plain": [
              "tensor([[0.3000],\n",
              "        [0.3140],\n",
              "        [0.3280],\n",
              "        [0.3420],\n",
              "        [0.3560],\n",
              "        [0.3700],\n",
              "        [0.3840],\n",
              "        [0.3980],\n",
              "        [0.4120],\n",
              "        [0.4260],\n",
              "        [0.4400],\n",
              "        [0.4540],\n",
              "        [0.4680],\n",
              "        [0.4820],\n",
              "        [0.4960],\n",
              "        [0.5100],\n",
              "        [0.5240],\n",
              "        [0.5380],\n",
              "        [0.5520],\n",
              "        [0.5660],\n",
              "        [0.5800],\n",
              "        [0.5940],\n",
              "        [0.6080],\n",
              "        [0.6220],\n",
              "        [0.6360],\n",
              "        [0.6500],\n",
              "        [0.6640],\n",
              "        [0.6780],\n",
              "        [0.6920],\n",
              "        [0.7060],\n",
              "        [0.7200],\n",
              "        [0.7340],\n",
              "        [0.7480],\n",
              "        [0.7620],\n",
              "        [0.7760],\n",
              "        [0.7900],\n",
              "        [0.8040],\n",
              "        [0.8180],\n",
              "        [0.8320],\n",
              "        [0.8460],\n",
              "        [0.8600],\n",
              "        [0.8740],\n",
              "        [0.8880],\n",
              "        [0.9020],\n",
              "        [0.9160],\n",
              "        [0.9300],\n",
              "        [0.9440],\n",
              "        [0.9580],\n",
              "        [0.9720],\n",
              "        [0.9860]])"
            ]
          },
          "metadata": {},
          "execution_count": 21
        }
      ]
    },
    {
      "cell_type": "code",
      "source": [
        " #create a train test split\n",
        "\n",
        "train_split = int(0.8*len(X))\n",
        "X_train,y_train = X[:train_split],y[:train_split]\n",
        "X_test,y_test = X[train_split:],y[train_split:]\n",
        "len(X_train),len(y_train),len(X_test),len(y_test)\n"
      ],
      "metadata": {
        "colab": {
          "base_uri": "https://localhost:8080/"
        },
        "id": "L0S8vK_pirp3",
        "outputId": "3e36c67e-2d03-4cfe-b75c-897426f65a28"
      },
      "execution_count": 22,
      "outputs": [
        {
          "output_type": "execute_result",
          "data": {
            "text/plain": [
              "(40, 40, 10, 10)"
            ]
          },
          "metadata": {},
          "execution_count": 22
        }
      ]
    },
    {
      "cell_type": "code",
      "source": [
        "X_train,len(y_train)"
      ],
      "metadata": {
        "colab": {
          "base_uri": "https://localhost:8080/"
        },
        "id": "mUKbOmiWn1WM",
        "outputId": "9be6790b-b70a-43fd-bb12-a40d9c008c67"
      },
      "execution_count": 23,
      "outputs": [
        {
          "output_type": "execute_result",
          "data": {
            "text/plain": [
              "(tensor([[0.0000],\n",
              "         [0.0200],\n",
              "         [0.0400],\n",
              "         [0.0600],\n",
              "         [0.0800],\n",
              "         [0.1000],\n",
              "         [0.1200],\n",
              "         [0.1400],\n",
              "         [0.1600],\n",
              "         [0.1800],\n",
              "         [0.2000],\n",
              "         [0.2200],\n",
              "         [0.2400],\n",
              "         [0.2600],\n",
              "         [0.2800],\n",
              "         [0.3000],\n",
              "         [0.3200],\n",
              "         [0.3400],\n",
              "         [0.3600],\n",
              "         [0.3800],\n",
              "         [0.4000],\n",
              "         [0.4200],\n",
              "         [0.4400],\n",
              "         [0.4600],\n",
              "         [0.4800],\n",
              "         [0.5000],\n",
              "         [0.5200],\n",
              "         [0.5400],\n",
              "         [0.5600],\n",
              "         [0.5800],\n",
              "         [0.6000],\n",
              "         [0.6200],\n",
              "         [0.6400],\n",
              "         [0.6600],\n",
              "         [0.6800],\n",
              "         [0.7000],\n",
              "         [0.7200],\n",
              "         [0.7400],\n",
              "         [0.7600],\n",
              "         [0.7800]]),\n",
              " 40)"
            ]
          },
          "metadata": {},
          "execution_count": 23
        }
      ]
    },
    {
      "cell_type": "code",
      "source": [
        "def plot_predictions(prediction=None):\n",
        "  train_data=X_train,\n",
        "  train_labels=y_train,\n",
        "  test_data=X_test,\n",
        "  test_labels=y_test,\n",
        "\n",
        "  plt.figure(figsize=(10,7))\n",
        "  plt.scatter(train_data,train_labels,c=\"b\",s=4,label=\"training data\")\n",
        "  plt.scatter(test_data,test_labels,c=\"g\",s=4,label=\"testing data\")\n",
        "  if prediction is not None:\n",
        "    plt.scatter(test_data,prediction,c='r',s=4,label = \"sizePredictions\")\n",
        "  plt.legend();\n"
      ],
      "metadata": {
        "id": "4WQcQISoNDE9"
      },
      "execution_count": 24,
      "outputs": []
    },
    {
      "cell_type": "code",
      "source": [
        "plot_predictions()"
      ],
      "metadata": {
        "colab": {
          "base_uri": "https://localhost:8080/",
          "height": 599
        },
        "id": "iNv5tgPss9xg",
        "outputId": "56cdbcfe-54f1-47f6-efa4-1db4a1deea70"
      },
      "execution_count": 25,
      "outputs": [
        {
          "output_type": "display_data",
          "data": {
            "text/plain": [
              "<Figure size 1000x700 with 1 Axes>"
            ],
            "image/png": "[encoded data removed]"
          },
          "metadata": {}
        }
      ]
    },
    {
      "cell_type": "markdown",
      "source": [
        "2.Building models using pytorch"
      ],
      "metadata": {
        "id": "Pi4EuffdTP2i"
      }
    },
    {
      "cell_type": "code",
      "source": [
        "from torch import nn\n",
        "\n",
        "class LinearRegressionModel(nn.Module):\n",
        "  def __init__(self):\n",
        "    super().__init__()\n",
        "    self.weights = nn.Parameter(torch.randn(1,requires_grad =True,dtype = torch.float ))\n",
        "    self.bais = nn.Parameter(torch.randn(1,requires_grad = True,dtype = torch.float))\n",
        "\n",
        "  def forward(self,x: torch.Tensor) -> torch.Tensor: #if indenetation is not proper \"forward function is implement error may come\"\n",
        "    return self.weights *x+self.bais\n"
      ],
      "metadata": {
        "id": "rz3SALsNTZUw"
      },
      "execution_count": 26,
      "outputs": []
    },
    {
      "cell_type": "code",
      "source": [
        " # torch.nn consists all the building blocks\n",
        " # torch.Parameter what parameters should our model try and learn\n",
        " # the base class for all neural network modules\n",
        " # torch.optim optimizer which helps for gradient descent\n",
        " # def forward() method defines what happens in the forward computation\n"
      ],
      "metadata": {
        "id": "Ewc2EZcjl2I3"
      },
      "execution_count": 27,
      "outputs": []
    },
    {
      "cell_type": "code",
      "source": [
        "#checking contents of our pytorch\n",
        "\n",
        "torch.manual_seed(42)\n",
        "\n",
        "model_0 = LinearRegressionModel()\n",
        "\n",
        "model_0.state_dict()"
      ],
      "metadata": {
        "colab": {
          "base_uri": "https://localhost:8080/"
        },
        "id": "mm9H6y_Fno8Y",
        "outputId": "12c95bf8-f6e8-48ad-b95f-c7224c43a695"
      },
      "execution_count": 28,
      "outputs": [
        {
          "output_type": "execute_result",
          "data": {
            "text/plain": [
              "OrderedDict([('weights', tensor([0.3367])), ('bais', tensor([0.1288]))])"
            ]
          },
          "metadata": {},
          "execution_count": 28
        }
      ]
    },
    {
      "cell_type": "code",
      "source": [
        "weight,bias\n"
      ],
      "metadata": {
        "colab": {
          "base_uri": "https://localhost:8080/"
        },
        "id": "QS4vcIl6qGzm",
        "outputId": "c407d0cc-3237-4bda-dc6f-3c02476b20cc"
      },
      "execution_count": 29,
      "outputs": [
        {
          "output_type": "execute_result",
          "data": {
            "text/plain": [
              "(0.7, 0.3)"
            ]
          },
          "metadata": {},
          "execution_count": 29
        }
      ]
    },
    {
      "cell_type": "code",
      "source": [
        "y_preds_no_inference = model_0(X_test)\n",
        "y_preds_no_inference  # it holds all the values related to gradients of parameters"
      ],
      "metadata": {
        "colab": {
          "base_uri": "https://localhost:8080/"
        },
        "id": "Vj19oxfSt6l4",
        "outputId": "8b6cd41f-85e7-45cb-a473-2600d2697d76"
      },
      "execution_count": 30,
      "outputs": [
        {
          "output_type": "execute_result",
          "data": {
            "text/plain": [
              "tensor([[0.3982],\n",
              "        [0.4049],\n",
              "        [0.4116],\n",
              "        [0.4184],\n",
              "        [0.4251],\n",
              "        [0.4318],\n",
              "        [0.4386],\n",
              "        [0.4453],\n",
              "        [0.4520],\n",
              "        [0.4588]], grad_fn=<AddBackward0>)"
            ]
          },
          "metadata": {},
          "execution_count": 30
        }
      ]
    },
    {
      "cell_type": "code",
      "source": [
        "#makeing prediction using torch.inference_mode()\n",
        "\n",
        "with torch.inference_mode():#infrence mode doesn't keeps track of gradients\n",
        "  y_preds = model_0(X_test)\n",
        "y_preds,y_test"
      ],
      "metadata": {
        "colab": {
          "base_uri": "https://localhost:8080/"
        },
        "id": "gWUwOBY4q007",
        "outputId": "68767b5a-4d35-4ede-ac27-0fca42273f1b"
      },
      "execution_count": 31,
      "outputs": [
        {
          "output_type": "execute_result",
          "data": {
            "text/plain": [
              "(tensor([[0.3982],\n",
              "         [0.4049],\n",
              "         [0.4116],\n",
              "         [0.4184],\n",
              "         [0.4251],\n",
              "         [0.4318],\n",
              "         [0.4386],\n",
              "         [0.4453],\n",
              "         [0.4520],\n",
              "         [0.4588]]),\n",
              " tensor([[0.8600],\n",
              "         [0.8740],\n",
              "         [0.8880],\n",
              "         [0.9020],\n",
              "         [0.9160],\n",
              "         [0.9300],\n",
              "         [0.9440],\n",
              "         [0.9580],\n",
              "         [0.9720],\n",
              "         [0.9860]]))"
            ]
          },
          "metadata": {},
          "execution_count": 31
        }
      ]
    },
    {
      "cell_type": "code",
      "source": [
        "plot_predictions(prediction =y_preds)"
      ],
      "metadata": {
        "colab": {
          "base_uri": "https://localhost:8080/",
          "height": 599
        },
        "id": "K3beJsvhsiEM",
        "outputId": "65907dc5-78d8-44ab-aee1-286b7c674004"
      },
      "execution_count": 32,
      "outputs": [
        {
          "output_type": "display_data",
          "data": {
            "text/plain": [
              "<Figure size 1000x700 with 1 Axes>"
            ],
            "image/png": "[encoded data removed]"
          },
          "metadata": {}
        }
      ]
    },
    {
      "cell_type": "code",
      "source": [
        "#https://youtu.be/V_xro1bcAuA?t=20481"
      ],
      "metadata": {
        "id": "3Ut47RcptefB"
      },
      "execution_count": 33,
      "outputs": []
    },
    {
      "cell_type": "markdown",
      "source": [
        "3 Training the model"
      ],
      "metadata": {
        "id": "R9gGu6pxM_bN"
      }
    },
    {
      "cell_type": "code",
      "source": [
        "# to measure how good our model predictions is we need to have loss functions\n",
        "\n",
        "#optimizers takes into account the loss of the model then updates the parameters\n",
        "\n",
        "model_0.state_dict()\n",
        "# we add train loop and test loop to get near actual value of parametes"
      ],
      "metadata": {
        "colab": {
          "base_uri": "https://localhost:8080/"
        },
        "id": "brHKtjF0Sb0X",
        "outputId": "8b73c19b-e66e-493d-cdbb-88beac7588a1"
      },
      "execution_count": 34,
      "outputs": [
        {
          "output_type": "execute_result",
          "data": {
            "text/plain": [
              "OrderedDict([('weights', tensor([0.3367])), ('bais', tensor([0.1288]))])"
            ]
          },
          "metadata": {},
          "execution_count": 34
        }
      ]
    },
    {
      "cell_type": "code",
      "source": [
        "#setup an loss fuctions and optimizer\n",
        "loss_fn = nn.L1Loss()\n",
        "optimizer = torch.optim.SGD(params=model_0.parameters(),lr=0.01)"
      ],
      "metadata": {
        "id": "rFg_lfbIT1yG"
      },
      "execution_count": 35,
      "outputs": []
    },
    {
      "cell_type": "code",
      "source": [
        "list(model_0.parameters()) # making sure we have requires_grad is True"
      ],
      "metadata": {
        "colab": {
          "base_uri": "https://localhost:8080/"
        },
        "id": "HLtTQxOCaVCx",
        "outputId": "e26a42fa-1ee7-49fa-c730-411138f35636"
      },
      "execution_count": 36,
      "outputs": [
        {
          "output_type": "execute_result",
          "data": {
            "text/plain": [
              "[Parameter containing:\n",
              " tensor([0.3367], requires_grad=True),\n",
              " Parameter containing:\n",
              " tensor([0.1288], requires_grad=True)]"
            ]
          },
          "metadata": {},
          "execution_count": 36
        }
      ]
    },
    {
      "cell_type": "code",
      "source": [],
      "metadata": {
        "id": "AGzFIzjus8F1"
      },
      "execution_count": null,
      "outputs": []
    },
    {
      "cell_type": "code",
      "source": [
        "#building the training and testing loop in pytorch\n",
        "loss = 0\n",
        "epochs = 500\n",
        "epoch_count = []\n",
        "loss_values = []\n",
        "test_loss_values = []\n",
        "for epoch in range(epochs):\n",
        "  model_0.train()# setting our model to train mode\n",
        "  y_pred = model_0(X_train)\n",
        "  loss = loss_fn(y_pred,y_train) #(input,output)\n",
        "\n",
        "  optimizer.zero_grad() # zero the gradient of the optimizer (as they accumulate by default)\n",
        "  loss.backward() #backpropogation\n",
        "  optimizer.step() #perform gradient descent\n",
        "  model_0.eval()# this turnoff different setting in the model not needed for evaluation\n",
        "\n",
        "print(loss)"
      ],
      "metadata": {
        "colab": {
          "base_uri": "https://localhost:8080/"
        },
        "id": "Pst_j4R-T2hu",
        "outputId": "78bc61d4-e8e5-43c6-f57d-1e715f60bb21"
      },
      "execution_count": 70,
      "outputs": [
        {
          "output_type": "stream",
          "name": "stdout",
          "text": [
            "tensor(0.0026, grad_fn=<MeanBackward0>)\n"
          ]
        }
      ]
    },
    {
      "cell_type": "code",
      "source": [
        "model_0.state_dict()"
      ],
      "metadata": {
        "colab": {
          "base_uri": "https://localhost:8080/"
        },
        "id": "Xkqg29qOczx6",
        "outputId": "b7916bf3-d5f6-4e58-a283-c10940b94866"
      },
      "execution_count": 71,
      "outputs": [
        {
          "output_type": "execute_result",
          "data": {
            "text/plain": [
              "OrderedDict([('weights', tensor([0.6990])), ('bais', tensor([0.3093]))])"
            ]
          },
          "metadata": {},
          "execution_count": 71
        }
      ]
    },
    {
      "cell_type": "code",
      "source": [
        "weight,bias"
      ],
      "metadata": {
        "colab": {
          "base_uri": "https://localhost:8080/"
        },
        "id": "In6o9WyUsOMb",
        "outputId": "c73cd3b0-7f28-478d-e501-e41cc923acbd"
      },
      "execution_count": 46,
      "outputs": [
        {
          "output_type": "execute_result",
          "data": {
            "text/plain": [
              "(0.7, 0.3)"
            ]
          },
          "metadata": {},
          "execution_count": 46
        }
      ]
    },
    {
      "cell_type": "code",
      "source": [
        "with torch.inference_mode():\n",
        "  ypred_new = model_0(X_test)\n"
      ],
      "metadata": {
        "id": "M45dJTPtsvfM"
      },
      "execution_count": 68,
      "outputs": []
    },
    {
      "cell_type": "code",
      "source": [
        "plot_predictions(prediction = ypred_new)"
      ],
      "metadata": {
        "colab": {
          "base_uri": "https://localhost:8080/",
          "height": 599
        },
        "id": "G1o_-vvMtFAV",
        "outputId": "f1fca456-ea1c-48dd-bb7f-28a21483440b"
      },
      "execution_count": 69,
      "outputs": [
        {
          "output_type": "display_data",
          "data": {
            "text/plain": [
              "<Figure size 1000x700 with 1 Axes>"
            ],
            "image/png": "[encoded data removed]"
          },
          "metadata": {}
        }
      ]
    },
    {
      "cell_type": "code",
      "source": [
        " # save the model as python pickle\n",
        "\n",
        " #torch.nn.Module.load_state_dict() this allows to load the model's saved dictionary\n",
        "\n",
        "\n",
        "\n",
        " model_0.state_dict()\n"
      ],
      "metadata": {
        "colab": {
          "base_uri": "https://localhost:8080/"
        },
        "id": "nCQuQSKO2n3c",
        "outputId": "a650681e-6e5f-4763-ec31-25cdeaf1bcfd"
      },
      "execution_count": 72,
      "outputs": [
        {
          "output_type": "execute_result",
          "data": {
            "text/plain": [
              "OrderedDict([('weights', tensor([0.6990])), ('bais', tensor([0.3093]))])"
            ]
          },
          "metadata": {},
          "execution_count": 72
        }
      ]
    },
    {
      "cell_type": "code",
      "source": [
        "from pathlib import Path\n",
        "MODEL_PATH = Path(\"models\")\n",
        "MODEL_PATH.mkdir(parents=True,exist_ok=True)#exist ok means if dic already there also there won't be any error\n",
        "\n",
        "MODEL_NAME = \"01_pytorch_workflow_model_0.pth\" #.pth is pytorch extension to save model\n",
        "MODEL_SAVE_PATH = MODEL_PATH / MODEL_NAME\n",
        "MODEL_SAVE_PATH"
      ],
      "metadata": {
        "colab": {
          "base_uri": "https://localhost:8080/"
        },
        "id": "kQ3Miyaj5Erm",
        "outputId": "c779eb94-bc6c-4ceb-ee31-92d2bda1ed92"
      },
      "execution_count": 73,
      "outputs": [
        {
          "output_type": "execute_result",
          "data": {
            "text/plain": [
              "PosixPath('models/01_pytorch_workflow_model_0.pth')"
            ]
          },
          "metadata": {},
          "execution_count": 73
        }
      ]
    },
    {
      "cell_type": "code",
      "source": [
        "#save and load the model should always with model.state_dict()\n",
        "\n",
        "torch.save(model_0.state_dict(),MODEL_SAVE_PATH)"
      ],
      "metadata": {
        "id": "Sp4GZeu66CFH"
      },
      "execution_count": 74,
      "outputs": []
    },
    {
      "cell_type": "code",
      "source": [
        "loaded_model_0 = LinearRegressionModel()\n",
        "loaded_model_0.state_dict()\n"
      ],
      "metadata": {
        "colab": {
          "base_uri": "https://localhost:8080/"
        },
        "id": "3pT8Ftzo6zjY",
        "outputId": "9769d8fd-6bff-46ac-b53c-93e62b3ce5ef"
      },
      "execution_count": 76,
      "outputs": [
        {
          "output_type": "execute_result",
          "data": {
            "text/plain": [
              "OrderedDict([('weights', tensor([-1.1229])), ('bais', tensor([-0.1863]))])"
            ]
          },
          "metadata": {},
          "execution_count": 76
        }
      ]
    },
    {
      "cell_type": "code",
      "source": [
        "loaded_model_0.load_state_dict(torch.load(MODEL_SAVE_PATH))\n",
        "loaded_model_0.state_dict()"
      ],
      "metadata": {
        "colab": {
          "base_uri": "https://localhost:8080/"
        },
        "id": "kHRJXjEa7xMd",
        "outputId": "d6c3aa1f-9b81-417c-af15-fb2404dfd320"
      },
      "execution_count": 78,
      "outputs": [
        {
          "output_type": "execute_result",
          "data": {
            "text/plain": [
              "OrderedDict([('weights', tensor([0.6990])), ('bais', tensor([0.3093]))])"
            ]
          },
          "metadata": {},
          "execution_count": 78
        }
      ]
    }
  ]
}